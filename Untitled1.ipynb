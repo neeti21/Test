{
 "cells": [
  {
   "cell_type": "code",
   "execution_count": 12,
   "metadata": {},
   "outputs": [],
   "source": [
    "import pandas as pd\n",
    "import numpy as np\n",
    "\n",
    "colnames = ['case_nbr','complainant','issue_type_desc','prov_state_cd','priority','outcome','outcome_decider',\n",
    "            'claim_diag', 'rev_cd','outcome_reason','initial_denial_reason','complaint_reason',\n",
    "            'complaint_detail_reason', 'addl_info_reqd_flg','appeal_proc_cd','doc_recv_flag']\n",
    "df = pd.read_csv('C:/Users/nnair101/Documents/Python/stars_data.csv', names=colnames, header=None)"
   ]
  },
  {
   "cell_type": "code",
   "execution_count": 14,
   "metadata": {},
   "outputs": [
    {
     "data": {
      "text/plain": [
       "case_nbr                    object\n",
       "complainant                 object\n",
       "issue_type_desc            float64\n",
       "prov_state_cd               object\n",
       "priority                    object\n",
       "outcome                     object\n",
       "outcome_decider             object\n",
       "claim_diag                  object\n",
       "rev_cd                     float64\n",
       "outcome_reason              object\n",
       "initial_denial_reason       object\n",
       "complaint_reason            object\n",
       "complaint_detail_reason     object\n",
       "addl_info_reqd_flg          object\n",
       "appeal_proc_cd              object\n",
       "doc_recv_flag               object\n",
       "dtype: object"
      ]
     },
     "execution_count": 14,
     "metadata": {},
     "output_type": "execute_result"
    }
   ],
   "source": [
    "df.dtypes"
   ]
  },
  {
   "cell_type": "code",
   "execution_count": 13,
   "metadata": {},
   "outputs": [
    {
     "data": {
      "text/html": [
       "<div>\n",
       "<style>\n",
       "    .dataframe thead tr:only-child th {\n",
       "        text-align: right;\n",
       "    }\n",
       "\n",
       "    .dataframe thead th {\n",
       "        text-align: left;\n",
       "    }\n",
       "\n",
       "    .dataframe tbody tr th {\n",
       "        vertical-align: top;\n",
       "    }\n",
       "</style>\n",
       "<table border=\"1\" class=\"dataframe\">\n",
       "  <thead>\n",
       "    <tr style=\"text-align: right;\">\n",
       "      <th></th>\n",
       "      <th>case_nbr</th>\n",
       "      <th>complainant</th>\n",
       "      <th>issue_type_desc</th>\n",
       "      <th>prov_state_cd</th>\n",
       "      <th>priority</th>\n",
       "      <th>outcome</th>\n",
       "      <th>outcome_decider</th>\n",
       "      <th>claim_diag</th>\n",
       "      <th>rev_cd</th>\n",
       "      <th>outcome_reason</th>\n",
       "      <th>initial_denial_reason</th>\n",
       "      <th>complaint_reason</th>\n",
       "      <th>complaint_detail_reason</th>\n",
       "      <th>addl_info_reqd_flg</th>\n",
       "      <th>appeal_proc_cd</th>\n",
       "      <th>doc_recv_flag</th>\n",
       "    </tr>\n",
       "  </thead>\n",
       "  <tbody>\n",
       "    <tr>\n",
       "      <th>0</th>\n",
       "      <td>ST003005RW</td>\n",
       "      <td>Non-Par</td>\n",
       "      <td>NaN</td>\n",
       "      <td>KY</td>\n",
       "      <td>Standard</td>\n",
       "      <td>Overturn</td>\n",
       "      <td>Medical Director</td>\n",
       "      <td>Z23</td>\n",
       "      <td>53.0</td>\n",
       "      <td>Meets medical necessity criteria              ...</td>\n",
       "      <td>NCD/LCD Not Met                               ...</td>\n",
       "      <td>Claims                                        ...</td>\n",
       "      <td>Reprocessing                                  ...</td>\n",
       "      <td>NaN</td>\n",
       "      <td>11422</td>\n",
       "      <td>N</td>\n",
       "    </tr>\n",
       "    <tr>\n",
       "      <th>1</th>\n",
       "      <td>ST003005RW</td>\n",
       "      <td>Non-Par</td>\n",
       "      <td>NaN</td>\n",
       "      <td>KY</td>\n",
       "      <td>Standard</td>\n",
       "      <td>Overturn</td>\n",
       "      <td>Medical Director</td>\n",
       "      <td>R208</td>\n",
       "      <td>149.0</td>\n",
       "      <td>Meets medical necessity criteria              ...</td>\n",
       "      <td>NCD/LCD Not Met                               ...</td>\n",
       "      <td>Claims                                        ...</td>\n",
       "      <td>Reprocessing                                  ...</td>\n",
       "      <td>NaN</td>\n",
       "      <td>11422</td>\n",
       "      <td>N</td>\n",
       "    </tr>\n",
       "    <tr>\n",
       "      <th>2</th>\n",
       "      <td>ST003005RW</td>\n",
       "      <td>Non-Par</td>\n",
       "      <td>NaN</td>\n",
       "      <td>KY</td>\n",
       "      <td>Standard</td>\n",
       "      <td>Overturn</td>\n",
       "      <td>Medical Director</td>\n",
       "      <td>Z23</td>\n",
       "      <td>53.0</td>\n",
       "      <td>Meets medical necessity criteria              ...</td>\n",
       "      <td>NCD/LCD Not Met                               ...</td>\n",
       "      <td>Claims                                        ...</td>\n",
       "      <td>Reprocessing                                  ...</td>\n",
       "      <td>NaN</td>\n",
       "      <td>11422</td>\n",
       "      <td>N</td>\n",
       "    </tr>\n",
       "    <tr>\n",
       "      <th>3</th>\n",
       "      <td>ST003006ZO</td>\n",
       "      <td>Non-Par</td>\n",
       "      <td>NaN</td>\n",
       "      <td>FL</td>\n",
       "      <td>Standard</td>\n",
       "      <td>Overturn</td>\n",
       "      <td>Medical Director</td>\n",
       "      <td>J208</td>\n",
       "      <td>1051.0</td>\n",
       "      <td>Meets coverage criteria                       ...</td>\n",
       "      <td>Limited benefit                               ...</td>\n",
       "      <td>Claims                                        ...</td>\n",
       "      <td>Reprocessing                                  ...</td>\n",
       "      <td>NaN</td>\n",
       "      <td>RMSNF</td>\n",
       "      <td>N</td>\n",
       "    </tr>\n",
       "    <tr>\n",
       "      <th>4</th>\n",
       "      <td>ST003006ZO</td>\n",
       "      <td>Non-Par</td>\n",
       "      <td>NaN</td>\n",
       "      <td>FL</td>\n",
       "      <td>Standard</td>\n",
       "      <td>Overturn</td>\n",
       "      <td>Medical Director</td>\n",
       "      <td>J208</td>\n",
       "      <td>1051.0</td>\n",
       "      <td>Meets coverage criteria                       ...</td>\n",
       "      <td>Limited benefit                               ...</td>\n",
       "      <td>Claims                                        ...</td>\n",
       "      <td>Reprocessing                                  ...</td>\n",
       "      <td>NaN</td>\n",
       "      <td>RMSNF</td>\n",
       "      <td>N</td>\n",
       "    </tr>\n",
       "  </tbody>\n",
       "</table>\n",
       "</div>"
      ],
      "text/plain": [
       "     case_nbr complainant  issue_type_desc prov_state_cd  priority   outcome  \\\n",
       "0  ST003005RW     Non-Par              NaN            KY  Standard  Overturn   \n",
       "1  ST003005RW     Non-Par              NaN            KY  Standard  Overturn   \n",
       "2  ST003005RW     Non-Par              NaN            KY  Standard  Overturn   \n",
       "3  ST003006ZO     Non-Par              NaN            FL  Standard  Overturn   \n",
       "4  ST003006ZO     Non-Par              NaN            FL  Standard  Overturn   \n",
       "\n",
       "    outcome_decider claim_diag  rev_cd  \\\n",
       "0  Medical Director        Z23    53.0   \n",
       "1  Medical Director       R208   149.0   \n",
       "2  Medical Director        Z23    53.0   \n",
       "3  Medical Director       J208  1051.0   \n",
       "4  Medical Director       J208  1051.0   \n",
       "\n",
       "                                      outcome_reason  \\\n",
       "0  Meets medical necessity criteria              ...   \n",
       "1  Meets medical necessity criteria              ...   \n",
       "2  Meets medical necessity criteria              ...   \n",
       "3  Meets coverage criteria                       ...   \n",
       "4  Meets coverage criteria                       ...   \n",
       "\n",
       "                               initial_denial_reason  \\\n",
       "0  NCD/LCD Not Met                               ...   \n",
       "1  NCD/LCD Not Met                               ...   \n",
       "2  NCD/LCD Not Met                               ...   \n",
       "3  Limited benefit                               ...   \n",
       "4  Limited benefit                               ...   \n",
       "\n",
       "                                    complaint_reason  \\\n",
       "0  Claims                                        ...   \n",
       "1  Claims                                        ...   \n",
       "2  Claims                                        ...   \n",
       "3  Claims                                        ...   \n",
       "4  Claims                                        ...   \n",
       "\n",
       "                             complaint_detail_reason addl_info_reqd_flg  \\\n",
       "0  Reprocessing                                  ...                NaN   \n",
       "1  Reprocessing                                  ...                NaN   \n",
       "2  Reprocessing                                  ...                NaN   \n",
       "3  Reprocessing                                  ...                NaN   \n",
       "4  Reprocessing                                  ...                NaN   \n",
       "\n",
       "     appeal_proc_cd doc_recv_flag  \n",
       "0             11422             N  \n",
       "1             11422             N  \n",
       "2             11422             N  \n",
       "3  RMSNF                        N  \n",
       "4  RMSNF                        N  "
      ]
     },
     "execution_count": 13,
     "metadata": {},
     "output_type": "execute_result"
    }
   ],
   "source": [
    "df.head()"
   ]
  },
  {
   "cell_type": "code",
   "execution_count": 15,
   "metadata": {
    "collapsed": true
   },
   "outputs": [],
   "source": [
    "df = df.drop(['issue_type_desc'], axis = 1)"
   ]
  },
  {
   "cell_type": "code",
   "execution_count": 20,
   "metadata": {},
   "outputs": [],
   "source": [
    "df['rev_cd'] = df['rev_cd'].astype(str)"
   ]
  },
  {
   "cell_type": "code",
   "execution_count": 22,
   "metadata": {
    "collapsed": true
   },
   "outputs": [],
   "source": [
    "df = df.drop(['case_nbr'], axis =1)"
   ]
  },
  {
   "cell_type": "code",
   "execution_count": 23,
   "metadata": {},
   "outputs": [
    {
     "data": {
      "text/html": [
       "<div>\n",
       "<style>\n",
       "    .dataframe thead tr:only-child th {\n",
       "        text-align: right;\n",
       "    }\n",
       "\n",
       "    .dataframe thead th {\n",
       "        text-align: left;\n",
       "    }\n",
       "\n",
       "    .dataframe tbody tr th {\n",
       "        vertical-align: top;\n",
       "    }\n",
       "</style>\n",
       "<table border=\"1\" class=\"dataframe\">\n",
       "  <thead>\n",
       "    <tr style=\"text-align: right;\">\n",
       "      <th></th>\n",
       "      <th>complainant</th>\n",
       "      <th>prov_state_cd</th>\n",
       "      <th>priority</th>\n",
       "      <th>outcome</th>\n",
       "      <th>outcome_decider</th>\n",
       "      <th>claim_diag</th>\n",
       "      <th>rev_cd</th>\n",
       "      <th>outcome_reason</th>\n",
       "      <th>initial_denial_reason</th>\n",
       "      <th>complaint_reason</th>\n",
       "      <th>complaint_detail_reason</th>\n",
       "      <th>addl_info_reqd_flg</th>\n",
       "      <th>appeal_proc_cd</th>\n",
       "      <th>doc_recv_flag</th>\n",
       "    </tr>\n",
       "  </thead>\n",
       "  <tbody>\n",
       "    <tr>\n",
       "      <th>0</th>\n",
       "      <td>Non-Par</td>\n",
       "      <td>KY</td>\n",
       "      <td>Standard</td>\n",
       "      <td>Overturn</td>\n",
       "      <td>Medical Director</td>\n",
       "      <td>Z23</td>\n",
       "      <td>53.0</td>\n",
       "      <td>Meets medical necessity criteria              ...</td>\n",
       "      <td>NCD/LCD Not Met                               ...</td>\n",
       "      <td>Claims                                        ...</td>\n",
       "      <td>Reprocessing                                  ...</td>\n",
       "      <td>NaN</td>\n",
       "      <td>11422</td>\n",
       "      <td>N</td>\n",
       "    </tr>\n",
       "    <tr>\n",
       "      <th>1</th>\n",
       "      <td>Non-Par</td>\n",
       "      <td>KY</td>\n",
       "      <td>Standard</td>\n",
       "      <td>Overturn</td>\n",
       "      <td>Medical Director</td>\n",
       "      <td>R208</td>\n",
       "      <td>149.0</td>\n",
       "      <td>Meets medical necessity criteria              ...</td>\n",
       "      <td>NCD/LCD Not Met                               ...</td>\n",
       "      <td>Claims                                        ...</td>\n",
       "      <td>Reprocessing                                  ...</td>\n",
       "      <td>NaN</td>\n",
       "      <td>11422</td>\n",
       "      <td>N</td>\n",
       "    </tr>\n",
       "    <tr>\n",
       "      <th>2</th>\n",
       "      <td>Non-Par</td>\n",
       "      <td>KY</td>\n",
       "      <td>Standard</td>\n",
       "      <td>Overturn</td>\n",
       "      <td>Medical Director</td>\n",
       "      <td>Z23</td>\n",
       "      <td>53.0</td>\n",
       "      <td>Meets medical necessity criteria              ...</td>\n",
       "      <td>NCD/LCD Not Met                               ...</td>\n",
       "      <td>Claims                                        ...</td>\n",
       "      <td>Reprocessing                                  ...</td>\n",
       "      <td>NaN</td>\n",
       "      <td>11422</td>\n",
       "      <td>N</td>\n",
       "    </tr>\n",
       "    <tr>\n",
       "      <th>3</th>\n",
       "      <td>Non-Par</td>\n",
       "      <td>FL</td>\n",
       "      <td>Standard</td>\n",
       "      <td>Overturn</td>\n",
       "      <td>Medical Director</td>\n",
       "      <td>J208</td>\n",
       "      <td>1051.0</td>\n",
       "      <td>Meets coverage criteria                       ...</td>\n",
       "      <td>Limited benefit                               ...</td>\n",
       "      <td>Claims                                        ...</td>\n",
       "      <td>Reprocessing                                  ...</td>\n",
       "      <td>NaN</td>\n",
       "      <td>RMSNF</td>\n",
       "      <td>N</td>\n",
       "    </tr>\n",
       "    <tr>\n",
       "      <th>4</th>\n",
       "      <td>Non-Par</td>\n",
       "      <td>FL</td>\n",
       "      <td>Standard</td>\n",
       "      <td>Overturn</td>\n",
       "      <td>Medical Director</td>\n",
       "      <td>J208</td>\n",
       "      <td>1051.0</td>\n",
       "      <td>Meets coverage criteria                       ...</td>\n",
       "      <td>Limited benefit                               ...</td>\n",
       "      <td>Claims                                        ...</td>\n",
       "      <td>Reprocessing                                  ...</td>\n",
       "      <td>NaN</td>\n",
       "      <td>RMSNF</td>\n",
       "      <td>N</td>\n",
       "    </tr>\n",
       "  </tbody>\n",
       "</table>\n",
       "</div>"
      ],
      "text/plain": [
       "  complainant prov_state_cd  priority   outcome   outcome_decider claim_diag  \\\n",
       "0     Non-Par            KY  Standard  Overturn  Medical Director        Z23   \n",
       "1     Non-Par            KY  Standard  Overturn  Medical Director       R208   \n",
       "2     Non-Par            KY  Standard  Overturn  Medical Director        Z23   \n",
       "3     Non-Par            FL  Standard  Overturn  Medical Director       J208   \n",
       "4     Non-Par            FL  Standard  Overturn  Medical Director       J208   \n",
       "\n",
       "   rev_cd                                     outcome_reason  \\\n",
       "0    53.0  Meets medical necessity criteria              ...   \n",
       "1   149.0  Meets medical necessity criteria              ...   \n",
       "2    53.0  Meets medical necessity criteria              ...   \n",
       "3  1051.0  Meets coverage criteria                       ...   \n",
       "4  1051.0  Meets coverage criteria                       ...   \n",
       "\n",
       "                               initial_denial_reason  \\\n",
       "0  NCD/LCD Not Met                               ...   \n",
       "1  NCD/LCD Not Met                               ...   \n",
       "2  NCD/LCD Not Met                               ...   \n",
       "3  Limited benefit                               ...   \n",
       "4  Limited benefit                               ...   \n",
       "\n",
       "                                    complaint_reason  \\\n",
       "0  Claims                                        ...   \n",
       "1  Claims                                        ...   \n",
       "2  Claims                                        ...   \n",
       "3  Claims                                        ...   \n",
       "4  Claims                                        ...   \n",
       "\n",
       "                             complaint_detail_reason addl_info_reqd_flg  \\\n",
       "0  Reprocessing                                  ...                NaN   \n",
       "1  Reprocessing                                  ...                NaN   \n",
       "2  Reprocessing                                  ...                NaN   \n",
       "3  Reprocessing                                  ...                NaN   \n",
       "4  Reprocessing                                  ...                NaN   \n",
       "\n",
       "     appeal_proc_cd doc_recv_flag  \n",
       "0             11422             N  \n",
       "1             11422             N  \n",
       "2             11422             N  \n",
       "3  RMSNF                        N  \n",
       "4  RMSNF                        N  "
      ]
     },
     "execution_count": 23,
     "metadata": {},
     "output_type": "execute_result"
    }
   ],
   "source": [
    "df.head()"
   ]
  },
  {
   "cell_type": "code",
   "execution_count": 27,
   "metadata": {},
   "outputs": [
    {
     "data": {
      "text/plain": [
       "complainant                      0\n",
       "prov_state_cd                47065\n",
       "priority                         0\n",
       "outcome                          0\n",
       "outcome_decider                  0\n",
       "claim_diag                   47068\n",
       "rev_cd                           0\n",
       "outcome_reason              224222\n",
       "initial_denial_reason            2\n",
       "complaint_reason                63\n",
       "complaint_detail_reason         67\n",
       "addl_info_reqd_flg         1020488\n",
       "appeal_proc_cd                   1\n",
       "doc_recv_flag                    0\n",
       "dtype: int64"
      ]
     },
     "execution_count": 27,
     "metadata": {},
     "output_type": "execute_result"
    }
   ],
   "source": [
    "df = pd.DataFrame(df)\n",
    "df.isnull().sum()"
   ]
  },
  {
   "cell_type": "code",
   "execution_count": 28,
   "metadata": {
    "collapsed": true
   },
   "outputs": [],
   "source": [
    "df = df.replace(np.nan, 'No_value', regex = True)"
   ]
  },
  {
   "cell_type": "code",
   "execution_count": 29,
   "metadata": {
    "collapsed": true
   },
   "outputs": [],
   "source": [
    "data_x = df.drop(['outcome'], axis = 1)\n",
    "data_y = df['outcome']"
   ]
  },
  {
   "cell_type": "code",
   "execution_count": 30,
   "metadata": {
    "collapsed": true
   },
   "outputs": [],
   "source": [
    "# train & test split\n",
    "from sklearn.model_selection import train_test_split\n",
    "X_train, X_test, Y_train, Y_test = train_test_split(data_x, data_y, test_size=0.2, random_state=0, stratify= data_y)"
   ]
  },
  {
   "cell_type": "code",
   "execution_count": 33,
   "metadata": {},
   "outputs": [
    {
     "ename": "NameError",
     "evalue": "name 'df_cat' is not defined",
     "output_type": "error",
     "traceback": [
      "\u001b[1;31m---------------------------------------------------------------------------\u001b[0m",
      "\u001b[1;31mNameError\u001b[0m                                 Traceback (most recent call last)",
      "\u001b[1;32m<ipython-input-33-01deffec979c>\u001b[0m in \u001b[0;36m<module>\u001b[1;34m()\u001b[0m\n\u001b[0;32m      3\u001b[0m \u001b[1;33m\u001b[0m\u001b[0m\n\u001b[0;32m      4\u001b[0m \u001b[0mohe\u001b[0m \u001b[1;33m=\u001b[0m \u001b[0mce\u001b[0m\u001b[1;33m.\u001b[0m\u001b[0mOneHotEncoder\u001b[0m\u001b[1;33m(\u001b[0m\u001b[0mhandle_unknown\u001b[0m\u001b[1;33m=\u001b[0m\u001b[1;34m'ignore'\u001b[0m\u001b[1;33m,\u001b[0m \u001b[0muse_cat_names\u001b[0m\u001b[1;33m=\u001b[0m\u001b[1;32mTrue\u001b[0m\u001b[1;33m)\u001b[0m\u001b[1;33m\u001b[0m\u001b[0m\n\u001b[1;32m----> 5\u001b[1;33m \u001b[0mX_train_ohe\u001b[0m \u001b[1;33m=\u001b[0m \u001b[0mohe\u001b[0m\u001b[1;33m.\u001b[0m\u001b[0mfit_transform\u001b[0m\u001b[1;33m(\u001b[0m\u001b[0mX_train\u001b[0m\u001b[1;33m[\u001b[0m\u001b[0mdf_cat\u001b[0m\u001b[1;33m.\u001b[0m\u001b[0mcolumns\u001b[0m\u001b[1;33m.\u001b[0m\u001b[0mvalues\u001b[0m\u001b[1;33m]\u001b[0m\u001b[1;33m)\u001b[0m\u001b[1;33m\u001b[0m\u001b[0m\n\u001b[0m\u001b[0;32m      6\u001b[0m \u001b[0mX_test_ohe\u001b[0m \u001b[1;33m=\u001b[0m \u001b[0mohe\u001b[0m\u001b[1;33m.\u001b[0m\u001b[0mtransform\u001b[0m\u001b[1;33m(\u001b[0m\u001b[0mX_test\u001b[0m\u001b[1;33m[\u001b[0m\u001b[0mdf_cat\u001b[0m\u001b[1;33m.\u001b[0m\u001b[0mcolumns\u001b[0m\u001b[1;33m.\u001b[0m\u001b[0mvalues\u001b[0m\u001b[1;33m]\u001b[0m\u001b[1;33m)\u001b[0m\u001b[1;33m\u001b[0m\u001b[0m\n\u001b[0;32m      7\u001b[0m \u001b[0mX_train_ohe\u001b[0m\u001b[1;33m.\u001b[0m\u001b[0mhead\u001b[0m\u001b[1;33m(\u001b[0m\u001b[1;33m)\u001b[0m\u001b[1;33m\u001b[0m\u001b[0m\n",
      "\u001b[1;31mNameError\u001b[0m: name 'df_cat' is not defined"
     ]
    }
   ],
   "source": [
    "import category_encoders as ce\n",
    "from sklearn.preprocessing import OneHotEncoder\n",
    " \n",
    "ohe = ce.OneHotEncoder(handle_unknown='ignore', use_cat_names=True)\n",
    "X_train_ohe = ohe.fit_transform(X_train[df.columns.values])\n",
    "X_test_ohe = ohe.transform(X_test[df_cat.columns.values])\n",
    "X_train_ohe.head()"
   ]
  },
  {
   "cell_type": "code",
   "execution_count": 32,
   "metadata": {},
   "outputs": [
    {
     "name": "stdout",
     "output_type": "stream",
     "text": [
      "Collecting category_encoders\n",
      "  Downloading https://files.pythonhosted.org/packages/f7/d3/82a4b85a87ece114f6d0139d643580c726efa45fa4db3b81aed38c0156c5/category_encoders-1.3.0-py2.py3-none-any.whl (61kB)\n",
      "Requirement already satisfied: scikit-learn>=0.17.1 in c:\\users\\nnair101\\appdata\\local\\continuum\\anaconda3\\lib\\site-packages (from category_encoders)\n",
      "Requirement already satisfied: scipy>=0.17.0 in c:\\users\\nnair101\\appdata\\local\\continuum\\anaconda3\\lib\\site-packages (from category_encoders)\n",
      "Requirement already satisfied: pandas>=0.20.1 in c:\\users\\nnair101\\appdata\\local\\continuum\\anaconda3\\lib\\site-packages (from category_encoders)\n",
      "Requirement already satisfied: patsy>=0.4.1 in c:\\users\\nnair101\\appdata\\local\\continuum\\anaconda3\\lib\\site-packages (from category_encoders)\n",
      "Requirement already satisfied: numpy>=1.11.1 in c:\\users\\nnair101\\appdata\\local\\continuum\\anaconda3\\lib\\site-packages (from category_encoders)\n",
      "Requirement already satisfied: statsmodels>=0.6.1 in c:\\users\\nnair101\\appdata\\local\\continuum\\anaconda3\\lib\\site-packages (from category_encoders)\n",
      "Requirement already satisfied: python-dateutil>=2 in c:\\users\\nnair101\\appdata\\local\\continuum\\anaconda3\\lib\\site-packages (from pandas>=0.20.1->category_encoders)\n",
      "Requirement already satisfied: pytz>=2011k in c:\\users\\nnair101\\appdata\\local\\continuum\\anaconda3\\lib\\site-packages (from pandas>=0.20.1->category_encoders)\n",
      "Requirement already satisfied: six in c:\\users\\nnair101\\appdata\\local\\continuum\\anaconda3\\lib\\site-packages (from patsy>=0.4.1->category_encoders)\n",
      "Installing collected packages: category-encoders\n",
      "Successfully installed category-encoders-1.3.0\n"
     ]
    },
    {
     "name": "stderr",
     "output_type": "stream",
     "text": [
      "You are using pip version 9.0.1, however version 19.0.3 is available.\n",
      "You should consider upgrading via the 'python -m pip install --upgrade pip' command.\n"
     ]
    }
   ],
   "source": [
    "!pip install category_encoders"
   ]
  }
 ],
 "metadata": {
  "kernelspec": {
   "display_name": "Python 3",
   "language": "python",
   "name": "python3"
  },
  "language_info": {
   "codemirror_mode": {
    "name": "ipython",
    "version": 3
   },
   "file_extension": ".py",
   "mimetype": "text/x-python",
   "name": "python",
   "nbconvert_exporter": "python",
   "pygments_lexer": "ipython3",
   "version": "3.6.1"
  }
 },
 "nbformat": 4,
 "nbformat_minor": 2
}
