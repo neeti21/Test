{
 "cells": [
  {
   "cell_type": "code",
   "execution_count": 1,
   "metadata": {
    "collapsed": true
   },
   "outputs": [],
   "source": [
    "import pandas as pd\n",
    "import numpy as np\n",
    "\n",
    "### Have taken only 10,000 sample records\n",
    "df = pd.read_csv('stats_assignment.csv')"
   ]
  },
  {
   "cell_type": "code",
   "execution_count": 2,
   "metadata": {},
   "outputs": [
    {
     "data": {
      "text/plain": [
       "Index(['call_id', 'call_yr', 'call_mo', 'call_dy', 'call_hr', 'call_mn',\n",
       "       'agent_id', 'node', 'callbegin_dttm', 'callend_dttm',\n",
       "       'skillgroupperipheralnumber', 'memberid', 'memberdob', 'memberstate',\n",
       "       'group_policy', 'callertype', 'producttype', 'ring_time', 'talk_time',\n",
       "       'hold_time', 'totalcalltime', 'queuetime', 'distinctredirattempt_cnt'],\n",
       "      dtype='object')"
      ]
     },
     "execution_count": 2,
     "metadata": {},
     "output_type": "execute_result"
    }
   ],
   "source": [
    "df.columns"
   ]
  },
  {
   "cell_type": "code",
   "execution_count": 4,
   "metadata": {},
   "outputs": [
    {
     "data": {
      "text/plain": [
       "call_id                       object\n",
       "call_yr                       object\n",
       "call_mo                        int64\n",
       "call_dy                        int64\n",
       "call_hr                        int64\n",
       "call_mn                        int64\n",
       "agent_id                      object\n",
       "node                           int64\n",
       "callbegin_dttm                object\n",
       "callend_dttm                  object\n",
       "skillgroupperipheralnumber    object\n",
       "memberid                      object\n",
       "memberdob                     object\n",
       "memberstate                   object\n",
       "group_policy                  object\n",
       "callertype                    object\n",
       "producttype                   object\n",
       "ring_time                      int64\n",
       "talk_time                     object\n",
       "hold_time                     object\n",
       "totalcalltime                 object\n",
       "queuetime                      int64\n",
       "distinctredirattempt_cnt       int64\n",
       "dtype: object"
      ]
     },
     "execution_count": 4,
     "metadata": {},
     "output_type": "execute_result"
    }
   ],
   "source": [
    "df.dtypes"
   ]
  },
  {
   "cell_type": "code",
   "execution_count": 5,
   "metadata": {
    "collapsed": true
   },
   "outputs": [],
   "source": [
    "df['totalcalltime'] = df['totalcalltime'].apply(pd.to_numeric, args=('coerce',))"
   ]
  },
  {
   "cell_type": "code",
   "execution_count": 24,
   "metadata": {},
   "outputs": [
    {
     "data": {
      "text/html": [
       "<div>\n",
       "<style>\n",
       "    .dataframe thead tr:only-child th {\n",
       "        text-align: right;\n",
       "    }\n",
       "\n",
       "    .dataframe thead th {\n",
       "        text-align: left;\n",
       "    }\n",
       "\n",
       "    .dataframe tbody tr th {\n",
       "        vertical-align: top;\n",
       "    }\n",
       "</style>\n",
       "<table border=\"1\" class=\"dataframe\">\n",
       "  <thead>\n",
       "    <tr style=\"text-align: right;\">\n",
       "      <th></th>\n",
       "      <th>value</th>\n",
       "    </tr>\n",
       "  </thead>\n",
       "  <tbody>\n",
       "    <tr>\n",
       "      <th>Mean</th>\n",
       "      <td>267.886</td>\n",
       "    </tr>\n",
       "    <tr>\n",
       "      <th>Median</th>\n",
       "      <td>204</td>\n",
       "    </tr>\n",
       "    <tr>\n",
       "      <th>Mode</th>\n",
       "      <td>0    15.0\n",
       "dtype: float64</td>\n",
       "    </tr>\n",
       "    <tr>\n",
       "      <th>25th Percentile</th>\n",
       "      <td>93.75</td>\n",
       "    </tr>\n",
       "    <tr>\n",
       "      <th>50th Percentile</th>\n",
       "      <td>204</td>\n",
       "    </tr>\n",
       "    <tr>\n",
       "      <th>75th Percentile</th>\n",
       "      <td>381</td>\n",
       "    </tr>\n",
       "    <tr>\n",
       "      <th>Standard Deviation</th>\n",
       "      <td>226.739</td>\n",
       "    </tr>\n",
       "  </tbody>\n",
       "</table>\n",
       "</div>"
      ],
      "text/plain": [
       "                                       value\n",
       "Mean                                 267.886\n",
       "Median                                   204\n",
       "Mode                0    15.0\n",
       "dtype: float64\n",
       "25th Percentile                        93.75\n",
       "50th Percentile                          204\n",
       "75th Percentile                          381\n",
       "Standard Deviation                   226.739"
      ]
     },
     "execution_count": 24,
     "metadata": {},
     "output_type": "execute_result"
    }
   ],
   "source": [
    "################## Total Call Time #########################\n",
    "header = []\n",
    "value = []\n",
    "col = 'totalcalltime'\n",
    "## Mean\n",
    "header.append('Mean')\n",
    "value.append(df[col].mean())\n",
    "\n",
    "## Median\n",
    "header.append('Median')\n",
    "value.append(df[col].median())\n",
    "\n",
    "## Mode\n",
    "header.append('Mode')\n",
    "value.append(df[col].mode())\n",
    "\n",
    "## Percentile Distribution\n",
    "header.append('25th Percentile')\n",
    "value.append(np.array(df[col].quantile([0.25]))[0])\n",
    "\n",
    "header.append('50th Percentile')\n",
    "value.append(np.array(df[col].quantile([0.5]))[0])\n",
    "\n",
    "header.append('75th Percentile')\n",
    "value.append(np.array(df[col].quantile([0.75]))[0])\n",
    "\n",
    "## Standard Deviation\n",
    "header.append('Standard Deviation')\n",
    "value.append(df[col].std())\n",
    "\n",
    "TotalCallTime_stats = pd.DataFrame(value, columns = ['value'], index = header)\n",
    "TotalCallTime_stats"
   ]
  },
  {
   "cell_type": "code",
   "execution_count": 27,
   "metadata": {},
   "outputs": [
    {
     "name": "stderr",
     "output_type": "stream",
     "text": [
      "C:\\Users\\nnair101\\AppData\\Local\\Continuum\\Anaconda3\\lib\\site-packages\\numpy\\lib\\function_base.py:3826: RuntimeWarning: Invalid value encountered in percentile\n",
      "  interpolation=interpolation)\n",
      "C:\\Users\\nnair101\\AppData\\Local\\Continuum\\Anaconda3\\lib\\site-packages\\matplotlib\\cbook.py:2066: RuntimeWarning: invalid value encountered in less_equal\n",
      "  wiskhi = np.compress(x <= hival, x)\n",
      "C:\\Users\\nnair101\\AppData\\Local\\Continuum\\Anaconda3\\lib\\site-packages\\matplotlib\\cbook.py:2073: RuntimeWarning: invalid value encountered in greater_equal\n",
      "  wisklo = np.compress(x >= loval, x)\n",
      "C:\\Users\\nnair101\\AppData\\Local\\Continuum\\Anaconda3\\lib\\site-packages\\matplotlib\\cbook.py:2081: RuntimeWarning: invalid value encountered in less\n",
      "  np.compress(x < stats['whislo'], x),\n",
      "C:\\Users\\nnair101\\AppData\\Local\\Continuum\\Anaconda3\\lib\\site-packages\\matplotlib\\cbook.py:2082: RuntimeWarning: invalid value encountered in greater\n",
      "  np.compress(x > stats['whishi'], x)\n"
     ]
    },
    {
     "data": {
      "image/png": "[encoded data removed]",
      "text/plain": [
       "<matplotlib.figure.Figure at 0x1191d2b0>"
      ]
     },
     "metadata": {},
     "output_type": "display_data"
    }
   ],
   "source": [
    "import matplotlib.pyplot as plt\n",
    "\n",
    "plt.boxplot(df[\"totalcalltime\"])\n",
    "plt.show()"
   ]
  },
  {
   "cell_type": "code",
   "execution_count": 29,
   "metadata": {},
   "outputs": [
    {
     "data": {
      "text/html": [
       "<div>\n",
       "<style>\n",
       "    .dataframe thead tr:only-child th {\n",
       "        text-align: right;\n",
       "    }\n",
       "\n",
       "    .dataframe thead th {\n",
       "        text-align: left;\n",
       "    }\n",
       "\n",
       "    .dataframe tbody tr th {\n",
       "        vertical-align: top;\n",
       "    }\n",
       "</style>\n",
       "<table border=\"1\" class=\"dataframe\">\n",
       "  <thead>\n",
       "    <tr style=\"text-align: right;\">\n",
       "      <th></th>\n",
       "      <th>value</th>\n",
       "    </tr>\n",
       "  </thead>\n",
       "  <tbody>\n",
       "    <tr>\n",
       "      <th>Mean</th>\n",
       "      <td>16.7503</td>\n",
       "    </tr>\n",
       "    <tr>\n",
       "      <th>Median</th>\n",
       "      <td>0</td>\n",
       "    </tr>\n",
       "    <tr>\n",
       "      <th>Mode</th>\n",
       "      <td>0    0\n",
       "dtype: int64</td>\n",
       "    </tr>\n",
       "    <tr>\n",
       "      <th>25th Percentile</th>\n",
       "      <td>0</td>\n",
       "    </tr>\n",
       "    <tr>\n",
       "      <th>50th Percentile</th>\n",
       "      <td>0</td>\n",
       "    </tr>\n",
       "    <tr>\n",
       "      <th>75th Percentile</th>\n",
       "      <td>0</td>\n",
       "    </tr>\n",
       "    <tr>\n",
       "      <th>90th Percentile</th>\n",
       "      <td>64</td>\n",
       "    </tr>\n",
       "    <tr>\n",
       "      <th>Standard Deviation</th>\n",
       "      <td>46.3098</td>\n",
       "    </tr>\n",
       "  </tbody>\n",
       "</table>\n",
       "</div>"
      ],
      "text/plain": [
       "                                  value\n",
       "Mean                            16.7503\n",
       "Median                                0\n",
       "Mode                0    0\n",
       "dtype: int64\n",
       "25th Percentile                       0\n",
       "50th Percentile                       0\n",
       "75th Percentile                       0\n",
       "90th Percentile                      64\n",
       "Standard Deviation              46.3098"
      ]
     },
     "execution_count": 29,
     "metadata": {},
     "output_type": "execute_result"
    }
   ],
   "source": [
    "################## Queue Time #########################\n",
    "header = []\n",
    "value = []\n",
    "col = 'queuetime'\n",
    "## Mean\n",
    "header.append('Mean')\n",
    "value.append(df[col].mean())\n",
    "\n",
    "## Median\n",
    "header.append('Median')\n",
    "value.append(df[col].median())\n",
    "\n",
    "## Mode\n",
    "header.append('Mode')\n",
    "value.append(df[col].mode())\n",
    "\n",
    "## Percentile Distribution\n",
    "header.append('25th Percentile')\n",
    "value.append(np.array(df[col].quantile([0.25]))[0])\n",
    "\n",
    "header.append('50th Percentile')\n",
    "value.append(np.array(df[col].quantile([0.5]))[0])\n",
    "\n",
    "header.append('75th Percentile')\n",
    "value.append(np.array(df[col].quantile([0.75]))[0])\n",
    "\n",
    "header.append('90th Percentile')\n",
    "value.append(np.array(df[col].quantile([0.90]))[0])\n",
    "\n",
    "## Standard Deviation\n",
    "header.append('Standard Deviation')\n",
    "value.append(df[col].std())\n",
    "\n",
    "QueueTime_stats = pd.DataFrame(value, columns = ['value'], index = header)\n",
    "QueueTime_stats"
   ]
  },
  {
   "cell_type": "code",
   "execution_count": 30,
   "metadata": {},
   "outputs": [
    {
     "data": {
      "image/png": "[encoded data removed]",
      "text/plain": [
       "<matplotlib.figure.Figure at 0x1191d0f0>"
      ]
     },
     "metadata": {},
     "output_type": "display_data"
    }
   ],
   "source": [
    "import matplotlib.pyplot as plt\n",
    "\n",
    "plt.boxplot(df[\"queuetime\"])\n",
    "plt.show()"
   ]
  },
  {
   "cell_type": "code",
   "execution_count": 31,
   "metadata": {},
   "outputs": [
    {
     "data": {
      "text/html": [
       "<div>\n",
       "<style>\n",
       "    .dataframe thead tr:only-child th {\n",
       "        text-align: right;\n",
       "    }\n",
       "\n",
       "    .dataframe thead th {\n",
       "        text-align: left;\n",
       "    }\n",
       "\n",
       "    .dataframe tbody tr th {\n",
       "        vertical-align: top;\n",
       "    }\n",
       "</style>\n",
       "<table border=\"1\" class=\"dataframe\">\n",
       "  <thead>\n",
       "    <tr style=\"text-align: right;\">\n",
       "      <th></th>\n",
       "      <th>value</th>\n",
       "    </tr>\n",
       "  </thead>\n",
       "  <tbody>\n",
       "    <tr>\n",
       "      <th>Mean</th>\n",
       "      <td>2.189</td>\n",
       "    </tr>\n",
       "    <tr>\n",
       "      <th>Median</th>\n",
       "      <td>2</td>\n",
       "    </tr>\n",
       "    <tr>\n",
       "      <th>Mode</th>\n",
       "      <td>0    2\n",
       "dtype: int64</td>\n",
       "    </tr>\n",
       "    <tr>\n",
       "      <th>25th Percentile</th>\n",
       "      <td>2</td>\n",
       "    </tr>\n",
       "    <tr>\n",
       "      <th>50th Percentile</th>\n",
       "      <td>2</td>\n",
       "    </tr>\n",
       "    <tr>\n",
       "      <th>75th Percentile</th>\n",
       "      <td>2</td>\n",
       "    </tr>\n",
       "    <tr>\n",
       "      <th>90th Percentile</th>\n",
       "      <td>3</td>\n",
       "    </tr>\n",
       "    <tr>\n",
       "      <th>Standard Deviation</th>\n",
       "      <td>0.646004</td>\n",
       "    </tr>\n",
       "  </tbody>\n",
       "</table>\n",
       "</div>"
      ],
      "text/plain": [
       "                                  value\n",
       "Mean                              2.189\n",
       "Median                                2\n",
       "Mode                0    2\n",
       "dtype: int64\n",
       "25th Percentile                       2\n",
       "50th Percentile                       2\n",
       "75th Percentile                       2\n",
       "90th Percentile                       3\n",
       "Standard Deviation             0.646004"
      ]
     },
     "execution_count": 31,
     "metadata": {},
     "output_type": "execute_result"
    }
   ],
   "source": [
    "################## Queue Time #########################\n",
    "header = []\n",
    "value = []\n",
    "col = 'distinctredirattempt_cnt'\n",
    "## Mean\n",
    "header.append('Mean')\n",
    "value.append(df[col].mean())\n",
    "\n",
    "## Median\n",
    "header.append('Median')\n",
    "value.append(df[col].median())\n",
    "\n",
    "## Mode\n",
    "header.append('Mode')\n",
    "value.append(df[col].mode())\n",
    "\n",
    "## Percentile Distribution\n",
    "header.append('25th Percentile')\n",
    "value.append(np.array(df[col].quantile([0.25]))[0])\n",
    "\n",
    "header.append('50th Percentile')\n",
    "value.append(np.array(df[col].quantile([0.5]))[0])\n",
    "\n",
    "header.append('75th Percentile')\n",
    "value.append(np.array(df[col].quantile([0.75]))[0])\n",
    "\n",
    "header.append('90th Percentile')\n",
    "value.append(np.array(df[col].quantile([0.90]))[0])\n",
    "\n",
    "## Standard Deviation\n",
    "header.append('Standard Deviation')\n",
    "value.append(df[col].std())\n",
    "\n",
    "QueueTime_stats = pd.DataFrame(value, columns = ['value'], index = header)\n",
    "QueueTime_stats"
   ]
  },
  {
   "cell_type": "code",
   "execution_count": 32,
   "metadata": {},
   "outputs": [
    {
     "data": {
      "image/png": "[encoded data removed]",
      "text/plain": [
       "<matplotlib.figure.Figure at 0x156f1550>"
      ]
     },
     "metadata": {},
     "output_type": "display_data"
    }
   ],
   "source": [
    "import matplotlib.pyplot as plt\n",
    "\n",
    "plt.boxplot(df[\"distinctredirattempt_cnt\"])\n",
    "plt.show()"
   ]
  },
  {
   "cell_type": "code",
   "execution_count": 39,
   "metadata": {},
   "outputs": [],
   "source": [
    "calls_by_members = pd.DataFrame(df.groupby('memberid')['call_id'].nunique())\n",
    "df = calls_by_members.loc[( calls_by_members['call_id'] ) > 1]"
   ]
  },
  {
   "cell_type": "code",
   "execution_count": 40,
   "metadata": {},
   "outputs": [
    {
     "data": {
      "text/html": [
       "<div>\n",
       "<style>\n",
       "    .dataframe thead tr:only-child th {\n",
       "        text-align: right;\n",
       "    }\n",
       "\n",
       "    .dataframe thead th {\n",
       "        text-align: left;\n",
       "    }\n",
       "\n",
       "    .dataframe tbody tr th {\n",
       "        vertical-align: top;\n",
       "    }\n",
       "</style>\n",
       "<table border=\"1\" class=\"dataframe\">\n",
       "  <thead>\n",
       "    <tr style=\"text-align: right;\">\n",
       "      <th></th>\n",
       "      <th>value</th>\n",
       "    </tr>\n",
       "  </thead>\n",
       "  <tbody>\n",
       "    <tr>\n",
       "      <th>Mean</th>\n",
       "      <td>174.971</td>\n",
       "    </tr>\n",
       "    <tr>\n",
       "      <th>Median</th>\n",
       "      <td>2</td>\n",
       "    </tr>\n",
       "    <tr>\n",
       "      <th>Mode</th>\n",
       "      <td>0    2\n",
       "dtype: int64</td>\n",
       "    </tr>\n",
       "    <tr>\n",
       "      <th>25th Percentile</th>\n",
       "      <td>2</td>\n",
       "    </tr>\n",
       "    <tr>\n",
       "      <th>50th Percentile</th>\n",
       "      <td>2</td>\n",
       "    </tr>\n",
       "    <tr>\n",
       "      <th>75th Percentile</th>\n",
       "      <td>2</td>\n",
       "    </tr>\n",
       "    <tr>\n",
       "      <th>90th Percentile</th>\n",
       "      <td>98.2</td>\n",
       "    </tr>\n",
       "    <tr>\n",
       "      <th>Standard Deviation</th>\n",
       "      <td>654.695</td>\n",
       "    </tr>\n",
       "  </tbody>\n",
       "</table>\n",
       "</div>"
      ],
      "text/plain": [
       "                                  value\n",
       "Mean                            174.971\n",
       "Median                                2\n",
       "Mode                0    2\n",
       "dtype: int64\n",
       "25th Percentile                       2\n",
       "50th Percentile                       2\n",
       "75th Percentile                       2\n",
       "90th Percentile                    98.2\n",
       "Standard Deviation              654.695"
      ]
     },
     "execution_count": 40,
     "metadata": {},
     "output_type": "execute_result"
    }
   ],
   "source": [
    "################## Repeat Calls #########################\n",
    "# Assumption- If any member has called more than once (count distinct of call id >1) is considered as repeat call\n",
    "\n",
    "header = []\n",
    "value = []\n",
    "col = 'call_id'\n",
    "## Mean\n",
    "header.append('Mean')\n",
    "value.append(df[col].mean())\n",
    "\n",
    "## Median\n",
    "header.append('Median')\n",
    "value.append(df[col].median())\n",
    "\n",
    "## Mode\n",
    "header.append('Mode')\n",
    "value.append(df[col].mode())\n",
    "\n",
    "## Percentile Distribution\n",
    "header.append('25th Percentile')\n",
    "value.append(np.array(df[col].quantile([0.25]))[0])\n",
    "\n",
    "header.append('50th Percentile')\n",
    "value.append(np.array(df[col].quantile([0.5]))[0])\n",
    "\n",
    "header.append('75th Percentile')\n",
    "value.append(np.array(df[col].quantile([0.75]))[0])\n",
    "\n",
    "header.append('90th Percentile')\n",
    "value.append(np.array(df[col].quantile([0.90]))[0])\n",
    "\n",
    "## Standard Deviation\n",
    "header.append('Standard Deviation')\n",
    "value.append(df[col].std())\n",
    "\n",
    "RepeatCall_stats = pd.DataFrame(value, columns = ['value'], index = header)\n",
    "RepeatCall_stats"
   ]
  },
  {
   "cell_type": "code",
   "execution_count": 41,
   "metadata": {},
   "outputs": [
    {
     "data": {
      "image/png": "[encoded data removed]",
      "text/plain": [
       "<matplotlib.figure.Figure at 0x4728f98>"
      ]
     },
     "metadata": {},
     "output_type": "display_data"
    }
   ],
   "source": [
    "import matplotlib.pyplot as plt\n",
    "\n",
    "plt.boxplot(df[\"call_id\"])\n",
    "plt.show()"
   ]
  }
 ],
 "metadata": {
  "kernelspec": {
   "display_name": "Python 3",
   "language": "python",
   "name": "python3"
  },
  "language_info": {
   "codemirror_mode": {
    "name": "ipython",
    "version": 3
   },
   "file_extension": ".py",
   "mimetype": "text/x-python",
   "name": "python",
   "nbconvert_exporter": "python",
   "pygments_lexer": "ipython3",
   "version": "3.6.1"
  }
 },
 "nbformat": 4,
 "nbformat_minor": 2
}
