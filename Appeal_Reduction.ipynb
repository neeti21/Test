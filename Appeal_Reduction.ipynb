{
 "cells": [
  {
   "cell_type": "code",
   "execution_count": 1,
   "metadata": {
    "collapsed": true
   },
   "outputs": [],
   "source": [
    "import pandas as pd\n",
    "import numpy as np\n",
    "\n",
    "df = pd.read_csv('C:/Users/nnair101/Documents/Python/appeal_claim1.csv')"
   ]
  },
  {
   "cell_type": "code",
   "execution_count": 54,
   "metadata": {},
   "outputs": [
    {
     "data": {
      "text/plain": [
       "facility_type         object\n",
       "complainant           object\n",
       "cos_prov_spcl_desc    object\n",
       "outcome               object\n",
       "dtype: object"
      ]
     },
     "execution_count": 54,
     "metadata": {},
     "output_type": "execute_result"
    }
   ],
   "source": [
    "df.dtypes"
   ]
  },
  {
   "cell_type": "code",
   "execution_count": 3,
   "metadata": {},
   "outputs": [
    {
     "data": {
      "text/html": [
       "<div>\n",
       "<style>\n",
       "    .dataframe thead tr:only-child th {\n",
       "        text-align: right;\n",
       "    }\n",
       "\n",
       "    .dataframe thead th {\n",
       "        text-align: left;\n",
       "    }\n",
       "\n",
       "    .dataframe tbody tr th {\n",
       "        vertical-align: top;\n",
       "    }\n",
       "</style>\n",
       "<table border=\"1\" class=\"dataframe\">\n",
       "  <thead>\n",
       "    <tr style=\"text-align: right;\">\n",
       "      <th></th>\n",
       "      <th>case_nbr</th>\n",
       "      <th>claim_site_key</th>\n",
       "      <th>facility_type</th>\n",
       "      <th>complainant</th>\n",
       "      <th>cos_prov_spcl_desc</th>\n",
       "      <th>outcome</th>\n",
       "    </tr>\n",
       "  </thead>\n",
       "  <tbody>\n",
       "    <tr>\n",
       "      <th>0</th>\n",
       "      <td>ST003008AK</td>\n",
       "      <td>0096636933RAM</td>\n",
       "      <td>PHYSICIAN</td>\n",
       "      <td>Non-Par</td>\n",
       "      <td>PATHOLOGIST                                   ...</td>\n",
       "      <td>Overturn</td>\n",
       "    </tr>\n",
       "    <tr>\n",
       "      <th>1</th>\n",
       "      <td>ST003008NG</td>\n",
       "      <td>0096995724RAM</td>\n",
       "      <td>PHYSICIAN</td>\n",
       "      <td>Non-Par</td>\n",
       "      <td>NEUROLOGIST                                   ...</td>\n",
       "      <td>Overturn</td>\n",
       "    </tr>\n",
       "    <tr>\n",
       "      <th>2</th>\n",
       "      <td>ST003008QB</td>\n",
       "      <td>0080553619NEX</td>\n",
       "      <td>PHYSICIAN</td>\n",
       "      <td>Non-Par</td>\n",
       "      <td>HOSPITALIST                                   ...</td>\n",
       "      <td>Overturn</td>\n",
       "    </tr>\n",
       "    <tr>\n",
       "      <th>3</th>\n",
       "      <td>ST003008RN</td>\n",
       "      <td>0096304638RAM</td>\n",
       "      <td>PHYSICIAN</td>\n",
       "      <td>Non-Par</td>\n",
       "      <td>FAMILY PRACTICE                               ...</td>\n",
       "      <td>Uphold</td>\n",
       "    </tr>\n",
       "    <tr>\n",
       "      <th>4</th>\n",
       "      <td>ST003009GK</td>\n",
       "      <td>0074543615ETX</td>\n",
       "      <td>PHYSICIAN</td>\n",
       "      <td>Non-Par</td>\n",
       "      <td>MEDICAL SUPPLY FIRM                           ...</td>\n",
       "      <td>Overturn</td>\n",
       "    </tr>\n",
       "  </tbody>\n",
       "</table>\n",
       "</div>"
      ],
      "text/plain": [
       "     case_nbr claim_site_key facility_type complainant  \\\n",
       "0  ST003008AK  0096636933RAM     PHYSICIAN     Non-Par   \n",
       "1  ST003008NG  0096995724RAM     PHYSICIAN     Non-Par   \n",
       "2  ST003008QB  0080553619NEX     PHYSICIAN     Non-Par   \n",
       "3  ST003008RN  0096304638RAM     PHYSICIAN     Non-Par   \n",
       "4  ST003009GK  0074543615ETX     PHYSICIAN     Non-Par   \n",
       "\n",
       "                                  cos_prov_spcl_desc   outcome  \n",
       "0  PATHOLOGIST                                   ...  Overturn  \n",
       "1  NEUROLOGIST                                   ...  Overturn  \n",
       "2  HOSPITALIST                                   ...  Overturn  \n",
       "3  FAMILY PRACTICE                               ...    Uphold  \n",
       "4  MEDICAL SUPPLY FIRM                           ...  Overturn  "
      ]
     },
     "execution_count": 3,
     "metadata": {},
     "output_type": "execute_result"
    }
   ],
   "source": [
    "df.head()"
   ]
  },
  {
   "cell_type": "code",
   "execution_count": 4,
   "metadata": {},
   "outputs": [
    {
     "data": {
      "text/html": [
       "<div>\n",
       "<style>\n",
       "    .dataframe thead tr:only-child th {\n",
       "        text-align: right;\n",
       "    }\n",
       "\n",
       "    .dataframe thead th {\n",
       "        text-align: left;\n",
       "    }\n",
       "\n",
       "    .dataframe tbody tr th {\n",
       "        vertical-align: top;\n",
       "    }\n",
       "</style>\n",
       "<table border=\"1\" class=\"dataframe\">\n",
       "  <thead>\n",
       "    <tr style=\"text-align: right;\">\n",
       "      <th></th>\n",
       "      <th>case_nbr</th>\n",
       "      <th>claim_site_key</th>\n",
       "      <th>facility_type</th>\n",
       "      <th>complainant</th>\n",
       "      <th>cos_prov_spcl_desc</th>\n",
       "    </tr>\n",
       "    <tr>\n",
       "      <th>outcome</th>\n",
       "      <th></th>\n",
       "      <th></th>\n",
       "      <th></th>\n",
       "      <th></th>\n",
       "      <th></th>\n",
       "    </tr>\n",
       "  </thead>\n",
       "  <tbody>\n",
       "    <tr>\n",
       "      <th>Overturn</th>\n",
       "      <td>47153</td>\n",
       "      <td>33134</td>\n",
       "      <td>33134</td>\n",
       "      <td>47153</td>\n",
       "      <td>33133</td>\n",
       "    </tr>\n",
       "    <tr>\n",
       "      <th>Uphold</th>\n",
       "      <td>57716</td>\n",
       "      <td>27844</td>\n",
       "      <td>27844</td>\n",
       "      <td>57716</td>\n",
       "      <td>27844</td>\n",
       "    </tr>\n",
       "  </tbody>\n",
       "</table>\n",
       "</div>"
      ],
      "text/plain": [
       "          case_nbr  claim_site_key  facility_type  complainant  \\\n",
       "outcome                                                          \n",
       "Overturn     47153           33134          33134        47153   \n",
       "Uphold       57716           27844          27844        57716   \n",
       "\n",
       "          cos_prov_spcl_desc  \n",
       "outcome                       \n",
       "Overturn               33133  \n",
       "Uphold                 27844  "
      ]
     },
     "execution_count": 4,
     "metadata": {},
     "output_type": "execute_result"
    }
   ],
   "source": [
    "df.groupby(['outcome']).count()"
   ]
  },
  {
   "cell_type": "code",
   "execution_count": 5,
   "metadata": {
    "collapsed": true
   },
   "outputs": [],
   "source": [
    "df = df.drop(['case_nbr'], axis = 1)\n",
    "df = df.drop(['claim_site_key'], axis = 1)"
   ]
  },
  {
   "cell_type": "code",
   "execution_count": 6,
   "metadata": {},
   "outputs": [
    {
     "data": {
      "text/plain": [
       "104869"
      ]
     },
     "execution_count": 6,
     "metadata": {},
     "output_type": "execute_result"
    }
   ],
   "source": [
    "len(df.iloc[:,0])"
   ]
  },
  {
   "cell_type": "code",
   "execution_count": 7,
   "metadata": {},
   "outputs": [
    {
     "data": {
      "text/plain": [
       "facility_type         43891\n",
       "complainant               0\n",
       "cos_prov_spcl_desc    43892\n",
       "outcome                   0\n",
       "dtype: int64"
      ]
     },
     "execution_count": 7,
     "metadata": {},
     "output_type": "execute_result"
    }
   ],
   "source": [
    "df = pd.DataFrame(df)\n",
    "df.isnull().sum()"
   ]
  },
  {
   "cell_type": "code",
   "execution_count": 8,
   "metadata": {
    "collapsed": true
   },
   "outputs": [],
   "source": [
    "df = df[pd.notnull(df['outcome'])]"
   ]
  },
  {
   "cell_type": "code",
   "execution_count": 9,
   "metadata": {
    "collapsed": true
   },
   "outputs": [],
   "source": [
    "df['facility_type'] = df['facility_type'].replace(np.nan, 'No_value', regex = True)\n",
    "df['cos_prov_spcl_desc'] = df['cos_prov_spcl_desc'].replace(np.nan, 'No_value', regex = True)"
   ]
  },
  {
   "cell_type": "code",
   "execution_count": 10,
   "metadata": {
    "collapsed": true
   },
   "outputs": [],
   "source": [
    "df['cos_prov_spcl_desc'] = df['cos_prov_spcl_desc'].apply(lambda x: x.strip())"
   ]
  },
  {
   "cell_type": "code",
   "execution_count": 11,
   "metadata": {
    "collapsed": true
   },
   "outputs": [],
   "source": [
    "df['cos_prov_spcl_desc'] = df['cos_prov_spcl_desc'].replace('HOSPITAL NONPAR - OUT-OF-AREA', 'HOSPITAL NON-PAR OUT OF AREA', regex = True) \n",
    "df['cos_prov_spcl_desc'] = df['cos_prov_spcl_desc'].replace('HOSPITAL NONPAR-OUT-OF-AREA', 'HOSPITAL NON-PAR OUT OF AREA', regex = True) "
   ]
  },
  {
   "cell_type": "code",
   "execution_count": 12,
   "metadata": {},
   "outputs": [
    {
     "data": {
      "text/plain": [
       "No_value                        43892\n",
       "HOSPITAL                        22540\n",
       "HOSPITAL NON-PAR OUT OF AREA    11006\n",
       "INDEPENDENT LAB                  5280\n",
       "RADIOLOGIST                      2449\n",
       "ANESTHESIOLOGIST                 2099\n",
       "INTERNIST                        1527\n",
       "FAMILY PRACTICE                  1337\n",
       "PATHOLOGIST                      1090\n",
       "MEDICAL SUPPLY FIRM              1023\n",
       "CARDIOLOGIST                      932\n",
       "ORTHOPEDIST                       647\n",
       "Name: cos_prov_spcl_desc, dtype: int64"
      ]
     },
     "execution_count": 12,
     "metadata": {},
     "output_type": "execute_result"
    }
   ],
   "source": [
    "spcl_values = df['cos_prov_spcl_desc'].value_counts()\n",
    "top_spcl = spcl_values[spcl_values.cumsum()/spcl_values.sum()*100 < 90]\n",
    "top_spcl"
   ]
  },
  {
   "cell_type": "code",
   "execution_count": 13,
   "metadata": {
    "collapsed": true
   },
   "outputs": [],
   "source": [
    "top_spcl_val = []\n",
    "for i in range(0,len(top_spcl.keys())):\n",
    "    top_spcl_val.append(top_spcl.keys()[i])\n",
    "    i = i + 1"
   ]
  },
  {
   "cell_type": "code",
   "execution_count": 14,
   "metadata": {},
   "outputs": [
    {
     "data": {
      "text/plain": [
       "['No_value',\n",
       " 'HOSPITAL',\n",
       " 'HOSPITAL NON-PAR OUT OF AREA',\n",
       " 'INDEPENDENT LAB',\n",
       " 'RADIOLOGIST',\n",
       " 'ANESTHESIOLOGIST',\n",
       " 'INTERNIST',\n",
       " 'FAMILY PRACTICE',\n",
       " 'PATHOLOGIST',\n",
       " 'MEDICAL SUPPLY FIRM',\n",
       " 'CARDIOLOGIST',\n",
       " 'ORTHOPEDIST']"
      ]
     },
     "execution_count": 14,
     "metadata": {},
     "output_type": "execute_result"
    }
   ],
   "source": [
    "top_spcl_val"
   ]
  },
  {
   "cell_type": "code",
   "execution_count": 15,
   "metadata": {
    "collapsed": true
   },
   "outputs": [],
   "source": [
    "df.loc[~df.cos_prov_spcl_desc.isin(top_spcl_val), 'cos_prov_spcl_desc'] = 'Others'"
   ]
  },
  {
   "cell_type": "code",
   "execution_count": 16,
   "metadata": {},
   "outputs": [
    {
     "data": {
      "text/plain": [
       "No_value                        43892\n",
       "HOSPITAL                        22540\n",
       "Others                          11047\n",
       "HOSPITAL NON-PAR OUT OF AREA    11006\n",
       "INDEPENDENT LAB                  5280\n",
       "RADIOLOGIST                      2449\n",
       "ANESTHESIOLOGIST                 2099\n",
       "INTERNIST                        1527\n",
       "FAMILY PRACTICE                  1337\n",
       "PATHOLOGIST                      1090\n",
       "MEDICAL SUPPLY FIRM              1023\n",
       "CARDIOLOGIST                      932\n",
       "ORTHOPEDIST                       647\n",
       "Name: cos_prov_spcl_desc, dtype: int64"
      ]
     },
     "execution_count": 16,
     "metadata": {},
     "output_type": "execute_result"
    }
   ],
   "source": [
    "df['cos_prov_spcl_desc'].value_counts()"
   ]
  },
  {
   "cell_type": "code",
   "execution_count": 17,
   "metadata": {
    "collapsed": true
   },
   "outputs": [],
   "source": [
    "data_x = df.drop(['outcome'], axis = 1)\n",
    "data_y = df['outcome']"
   ]
  },
  {
   "cell_type": "code",
   "execution_count": 18,
   "metadata": {
    "collapsed": true
   },
   "outputs": [],
   "source": [
    "# train & test split\n",
    "from sklearn.model_selection import train_test_split\n",
    "X_train, X_test, Y_train, Y_test = train_test_split(data_x, data_y, test_size=0.2, random_state=0, stratify= data_y)"
   ]
  },
  {
   "cell_type": "code",
   "execution_count": 51,
   "metadata": {},
   "outputs": [
    {
     "data": {
      "text/plain": [
       "Index(['facility_type', 'complainant', 'cos_prov_spcl_desc'], dtype='object')"
      ]
     },
     "execution_count": 51,
     "metadata": {},
     "output_type": "execute_result"
    }
   ],
   "source": [
    "X_train['facility_type_new'] = X_train[]"
   ]
  },
  {
   "cell_type": "code",
   "execution_count": 53,
   "metadata": {},
   "outputs": [
    {
     "data": {
      "text/plain": [
       "array(['No_value', 'PHYSICIAN', 'HOSPITAL'], dtype=object)"
      ]
     },
     "execution_count": 53,
     "metadata": {},
     "output_type": "execute_result"
    }
   ],
   "source": [
    "X_train['facility_type'].unique() "
   ]
  },
  {
   "cell_type": "code",
   "execution_count": 56,
   "metadata": {},
   "outputs": [],
   "source": [
    "for col_val in X_train['facility_type'].unique():\n",
    "    new_col = 'facility_type' + col_val\n",
    "    a = len(df[(df['A']>0) & (df['B']>0)])\n",
    "    b = len(df)\n",
    "    df['equal_or_lower_than_4?'] = df['set_of_numbers'].apply(lambda x: 'True' if x <= 4 else 'False')"
   ]
  },
  {
   "cell_type": "code",
   "execution_count": 19,
   "metadata": {},
   "outputs": [
    {
     "data": {
      "text/plain": [
       "Uphold      46173\n",
       "Overturn    37722\n",
       "Name: outcome, dtype: int64"
      ]
     },
     "execution_count": 19,
     "metadata": {},
     "output_type": "execute_result"
    }
   ],
   "source": [
    "Y_train.value_counts()"
   ]
  },
  {
   "cell_type": "code",
   "execution_count": 20,
   "metadata": {},
   "outputs": [
    {
     "data": {
      "text/plain": [
       "Uphold      11543\n",
       "Overturn     9431\n",
       "Name: outcome, dtype: int64"
      ]
     },
     "execution_count": 20,
     "metadata": {},
     "output_type": "execute_result"
    }
   ],
   "source": [
    "Y_test.value_counts()"
   ]
  },
  {
   "cell_type": "code",
   "execution_count": 21,
   "metadata": {},
   "outputs": [
    {
     "data": {
      "text/html": [
       "<div>\n",
       "<style>\n",
       "    .dataframe thead tr:only-child th {\n",
       "        text-align: right;\n",
       "    }\n",
       "\n",
       "    .dataframe thead th {\n",
       "        text-align: left;\n",
       "    }\n",
       "\n",
       "    .dataframe tbody tr th {\n",
       "        vertical-align: top;\n",
       "    }\n",
       "</style>\n",
       "<table border=\"1\" class=\"dataframe\">\n",
       "  <thead>\n",
       "    <tr style=\"text-align: right;\">\n",
       "      <th></th>\n",
       "      <th>facility_type_No_value</th>\n",
       "      <th>facility_type_PHYSICIAN</th>\n",
       "      <th>facility_type_HOSPITAL</th>\n",
       "      <th>complainant_Non-Par</th>\n",
       "      <th>complainant_Par</th>\n",
       "      <th>cos_prov_spcl_desc_No_value</th>\n",
       "      <th>cos_prov_spcl_desc_INDEPENDENT LAB</th>\n",
       "      <th>cos_prov_spcl_desc_FAMILY PRACTICE</th>\n",
       "      <th>cos_prov_spcl_desc_HOSPITAL</th>\n",
       "      <th>cos_prov_spcl_desc_RADIOLOGIST</th>\n",
       "      <th>cos_prov_spcl_desc_Others</th>\n",
       "      <th>cos_prov_spcl_desc_HOSPITAL NON-PAR OUT OF AREA</th>\n",
       "      <th>cos_prov_spcl_desc_PATHOLOGIST</th>\n",
       "      <th>cos_prov_spcl_desc_ORTHOPEDIST</th>\n",
       "      <th>cos_prov_spcl_desc_ANESTHESIOLOGIST</th>\n",
       "      <th>cos_prov_spcl_desc_CARDIOLOGIST</th>\n",
       "      <th>cos_prov_spcl_desc_INTERNIST</th>\n",
       "      <th>cos_prov_spcl_desc_MEDICAL SUPPLY FIRM</th>\n",
       "    </tr>\n",
       "  </thead>\n",
       "  <tbody>\n",
       "    <tr>\n",
       "      <th>65046</th>\n",
       "      <td>1</td>\n",
       "      <td>0</td>\n",
       "      <td>0</td>\n",
       "      <td>1</td>\n",
       "      <td>0</td>\n",
       "      <td>1</td>\n",
       "      <td>0</td>\n",
       "      <td>0</td>\n",
       "      <td>0</td>\n",
       "      <td>0</td>\n",
       "      <td>0</td>\n",
       "      <td>0</td>\n",
       "      <td>0</td>\n",
       "      <td>0</td>\n",
       "      <td>0</td>\n",
       "      <td>0</td>\n",
       "      <td>0</td>\n",
       "      <td>0</td>\n",
       "    </tr>\n",
       "    <tr>\n",
       "      <th>84706</th>\n",
       "      <td>0</td>\n",
       "      <td>1</td>\n",
       "      <td>0</td>\n",
       "      <td>1</td>\n",
       "      <td>0</td>\n",
       "      <td>0</td>\n",
       "      <td>1</td>\n",
       "      <td>0</td>\n",
       "      <td>0</td>\n",
       "      <td>0</td>\n",
       "      <td>0</td>\n",
       "      <td>0</td>\n",
       "      <td>0</td>\n",
       "      <td>0</td>\n",
       "      <td>0</td>\n",
       "      <td>0</td>\n",
       "      <td>0</td>\n",
       "      <td>0</td>\n",
       "    </tr>\n",
       "    <tr>\n",
       "      <th>15144</th>\n",
       "      <td>0</td>\n",
       "      <td>1</td>\n",
       "      <td>0</td>\n",
       "      <td>1</td>\n",
       "      <td>0</td>\n",
       "      <td>0</td>\n",
       "      <td>0</td>\n",
       "      <td>1</td>\n",
       "      <td>0</td>\n",
       "      <td>0</td>\n",
       "      <td>0</td>\n",
       "      <td>0</td>\n",
       "      <td>0</td>\n",
       "      <td>0</td>\n",
       "      <td>0</td>\n",
       "      <td>0</td>\n",
       "      <td>0</td>\n",
       "      <td>0</td>\n",
       "    </tr>\n",
       "    <tr>\n",
       "      <th>1313</th>\n",
       "      <td>1</td>\n",
       "      <td>0</td>\n",
       "      <td>0</td>\n",
       "      <td>1</td>\n",
       "      <td>0</td>\n",
       "      <td>1</td>\n",
       "      <td>0</td>\n",
       "      <td>0</td>\n",
       "      <td>0</td>\n",
       "      <td>0</td>\n",
       "      <td>0</td>\n",
       "      <td>0</td>\n",
       "      <td>0</td>\n",
       "      <td>0</td>\n",
       "      <td>0</td>\n",
       "      <td>0</td>\n",
       "      <td>0</td>\n",
       "      <td>0</td>\n",
       "    </tr>\n",
       "    <tr>\n",
       "      <th>26843</th>\n",
       "      <td>0</td>\n",
       "      <td>0</td>\n",
       "      <td>1</td>\n",
       "      <td>0</td>\n",
       "      <td>1</td>\n",
       "      <td>0</td>\n",
       "      <td>0</td>\n",
       "      <td>0</td>\n",
       "      <td>1</td>\n",
       "      <td>0</td>\n",
       "      <td>0</td>\n",
       "      <td>0</td>\n",
       "      <td>0</td>\n",
       "      <td>0</td>\n",
       "      <td>0</td>\n",
       "      <td>0</td>\n",
       "      <td>0</td>\n",
       "      <td>0</td>\n",
       "    </tr>\n",
       "  </tbody>\n",
       "</table>\n",
       "</div>"
      ],
      "text/plain": [
       "       facility_type_No_value  facility_type_PHYSICIAN  \\\n",
       "65046                       1                        0   \n",
       "84706                       0                        1   \n",
       "15144                       0                        1   \n",
       "1313                        1                        0   \n",
       "26843                       0                        0   \n",
       "\n",
       "       facility_type_HOSPITAL  complainant_Non-Par  complainant_Par  \\\n",
       "65046                       0                    1                0   \n",
       "84706                       0                    1                0   \n",
       "15144                       0                    1                0   \n",
       "1313                        0                    1                0   \n",
       "26843                       1                    0                1   \n",
       "\n",
       "       cos_prov_spcl_desc_No_value  cos_prov_spcl_desc_INDEPENDENT LAB  \\\n",
       "65046                            1                                   0   \n",
       "84706                            0                                   1   \n",
       "15144                            0                                   0   \n",
       "1313                             1                                   0   \n",
       "26843                            0                                   0   \n",
       "\n",
       "       cos_prov_spcl_desc_FAMILY PRACTICE  cos_prov_spcl_desc_HOSPITAL  \\\n",
       "65046                                   0                            0   \n",
       "84706                                   0                            0   \n",
       "15144                                   1                            0   \n",
       "1313                                    0                            0   \n",
       "26843                                   0                            1   \n",
       "\n",
       "       cos_prov_spcl_desc_RADIOLOGIST  cos_prov_spcl_desc_Others  \\\n",
       "65046                               0                          0   \n",
       "84706                               0                          0   \n",
       "15144                               0                          0   \n",
       "1313                                0                          0   \n",
       "26843                               0                          0   \n",
       "\n",
       "       cos_prov_spcl_desc_HOSPITAL NON-PAR OUT OF AREA  \\\n",
       "65046                                                0   \n",
       "84706                                                0   \n",
       "15144                                                0   \n",
       "1313                                                 0   \n",
       "26843                                                0   \n",
       "\n",
       "       cos_prov_spcl_desc_PATHOLOGIST  cos_prov_spcl_desc_ORTHOPEDIST  \\\n",
       "65046                               0                               0   \n",
       "84706                               0                               0   \n",
       "15144                               0                               0   \n",
       "1313                                0                               0   \n",
       "26843                               0                               0   \n",
       "\n",
       "       cos_prov_spcl_desc_ANESTHESIOLOGIST  cos_prov_spcl_desc_CARDIOLOGIST  \\\n",
       "65046                                    0                                0   \n",
       "84706                                    0                                0   \n",
       "15144                                    0                                0   \n",
       "1313                                     0                                0   \n",
       "26843                                    0                                0   \n",
       "\n",
       "       cos_prov_spcl_desc_INTERNIST  cos_prov_spcl_desc_MEDICAL SUPPLY FIRM  \n",
       "65046                             0                                       0  \n",
       "84706                             0                                       0  \n",
       "15144                             0                                       0  \n",
       "1313                              0                                       0  \n",
       "26843                             0                                       0  "
      ]
     },
     "execution_count": 21,
     "metadata": {},
     "output_type": "execute_result"
    }
   ],
   "source": [
    "import category_encoders as ce\n",
    "from sklearn.preprocessing import OneHotEncoder\n",
    " \n",
    "ohe = ce.OneHotEncoder(handle_unknown='ignore', use_cat_names=True)\n",
    "X_train_ohe = ohe.fit_transform(X_train)\n",
    "X_test_ohe = ohe.transform(X_test)\n",
    "X_train_ohe.head()"
   ]
  },
  {
   "cell_type": "code",
   "execution_count": 22,
   "metadata": {},
   "outputs": [
    {
     "data": {
      "text/plain": [
       "Index(['facility_type_No_value', 'facility_type_PHYSICIAN',\n",
       "       'facility_type_HOSPITAL', 'complainant_Non-Par', 'complainant_Par',\n",
       "       'cos_prov_spcl_desc_No_value', 'cos_prov_spcl_desc_INDEPENDENT LAB',\n",
       "       'cos_prov_spcl_desc_FAMILY PRACTICE', 'cos_prov_spcl_desc_HOSPITAL',\n",
       "       'cos_prov_spcl_desc_RADIOLOGIST', 'cos_prov_spcl_desc_Others',\n",
       "       'cos_prov_spcl_desc_HOSPITAL NON-PAR OUT OF AREA',\n",
       "       'cos_prov_spcl_desc_PATHOLOGIST', 'cos_prov_spcl_desc_ORTHOPEDIST',\n",
       "       'cos_prov_spcl_desc_ANESTHESIOLOGIST',\n",
       "       'cos_prov_spcl_desc_CARDIOLOGIST', 'cos_prov_spcl_desc_INTERNIST',\n",
       "       'cos_prov_spcl_desc_MEDICAL SUPPLY FIRM'],\n",
       "      dtype='object')"
      ]
     },
     "execution_count": 22,
     "metadata": {},
     "output_type": "execute_result"
    }
   ],
   "source": [
    "X_train_ohe.columns"
   ]
  },
  {
   "cell_type": "code",
   "execution_count": 85,
   "metadata": {},
   "outputs": [
    {
     "name": "stdout",
     "output_type": "stream",
     "text": [
      "DecisionTreeClassifier(class_weight='balanced', criterion='gini', max_depth=1,\n",
      "            max_features=None, max_leaf_nodes=None,\n",
      "            min_impurity_split=1e-07, min_samples_leaf=1,\n",
      "            min_samples_split=2, min_weight_fraction_leaf=0.0,\n",
      "            presort=False, random_state=None, splitter='best')\n",
      "0.86859921808\n"
     ]
    }
   ],
   "source": [
    "from sklearn.model_selection import GridSearchCV\n",
    "from sklearn.tree import DecisionTreeClassifier\n",
    "parameter = [{'max_depth': [None, 1,10, 100, 200], 'min_samples_split': [2,5,10], 'min_samples_leaf': [1,5,10]}]\n",
    "model = GridSearchCV(DecisionTreeClassifier(class_weight= 'balanced'), parameter, cv=5)\n",
    "model.fit(X_train_ohe, Y_train)\n",
    "print(model.best_estimator_)\n",
    "print(model.score(X_test_ohe, Y_test))"
   ]
  },
  {
   "cell_type": "code",
   "execution_count": 40,
   "metadata": {},
   "outputs": [
    {
     "name": "stdout",
     "output_type": "stream",
     "text": [
      "RandomForestClassifier(bootstrap=True, class_weight='balanced',\n",
      "            criterion='gini', max_depth=10, max_features='auto',\n",
      "            max_leaf_nodes=None, min_impurity_split=1e-07,\n",
      "            min_samples_leaf=10, min_samples_split=2,\n",
      "            min_weight_fraction_leaf=0.0, n_estimators=10, n_jobs=1,\n",
      "            oob_score=False, random_state=None, verbose=0,\n",
      "            warm_start=False)\n",
      "0.868742252312\n"
     ]
    }
   ],
   "source": [
    "from sklearn.ensemble import RandomForestClassifier\n",
    "parameter = [{'max_depth': [None, 1,10, 100, 200], 'min_samples_split': [2,5,10], 'min_samples_leaf': [1,5,10]}]\n",
    "model = GridSearchCV(RandomForestClassifier(class_weight= 'balanced'), parameter, cv=5)\n",
    "model.fit(X_train_ohe, Y_train)\n",
    "print(model.best_estimator_)\n",
    "print(model.score(X_test_ohe, Y_test))"
   ]
  },
  {
   "cell_type": "code",
   "execution_count": 41,
   "metadata": {},
   "outputs": [
    {
     "name": "stdout",
     "output_type": "stream",
     "text": [
      "0.869123676933\n"
     ]
    }
   ],
   "source": [
    "from sklearn.ensemble import RandomForestClassifier\n",
    "rf = RandomForestClassifier(bootstrap=True, class_weight='balanced',\n",
    "            criterion='gini', max_depth=None, max_features='auto',\n",
    "            max_leaf_nodes=None, min_impurity_split=1e-07,\n",
    "            min_samples_leaf=10, min_samples_split=2,\n",
    "            min_weight_fraction_leaf=0.0, n_estimators=10, n_jobs=1,\n",
    "            oob_score=False, random_state=None, verbose=0,\n",
    "            warm_start=False)\n",
    "rf.fit(X_train_ohe, Y_train)\n",
    "print(rf.score(X_test_ohe, Y_test))"
   ]
  },
  {
   "cell_type": "code",
   "execution_count": 39,
   "metadata": {},
   "outputs": [
    {
     "data": {
      "text/html": [
       "<div>\n",
       "<style>\n",
       "    .dataframe thead tr:only-child th {\n",
       "        text-align: right;\n",
       "    }\n",
       "\n",
       "    .dataframe thead th {\n",
       "        text-align: left;\n",
       "    }\n",
       "\n",
       "    .dataframe tbody tr th {\n",
       "        vertical-align: top;\n",
       "    }\n",
       "</style>\n",
       "<table border=\"1\" class=\"dataframe\">\n",
       "  <thead>\n",
       "    <tr style=\"text-align: right;\">\n",
       "      <th></th>\n",
       "      <th>importance</th>\n",
       "    </tr>\n",
       "  </thead>\n",
       "  <tbody>\n",
       "    <tr>\n",
       "      <th>complainant_Par</th>\n",
       "      <td>0.445982</td>\n",
       "    </tr>\n",
       "    <tr>\n",
       "      <th>complainant_Non-Par</th>\n",
       "      <td>0.384908</td>\n",
       "    </tr>\n",
       "    <tr>\n",
       "      <th>facility_type_PHYSICIAN</th>\n",
       "      <td>0.059206</td>\n",
       "    </tr>\n",
       "    <tr>\n",
       "      <th>facility_type_HOSPITAL</th>\n",
       "      <td>0.035274</td>\n",
       "    </tr>\n",
       "    <tr>\n",
       "      <th>cos_prov_spcl_desc_No_value</th>\n",
       "      <td>0.032988</td>\n",
       "    </tr>\n",
       "    <tr>\n",
       "      <th>cos_prov_spcl_desc_INDEPENDENT LAB</th>\n",
       "      <td>0.015116</td>\n",
       "    </tr>\n",
       "    <tr>\n",
       "      <th>facility_type_No_value</th>\n",
       "      <td>0.009984</td>\n",
       "    </tr>\n",
       "    <tr>\n",
       "      <th>cos_prov_spcl_desc_HOSPITAL</th>\n",
       "      <td>0.009818</td>\n",
       "    </tr>\n",
       "    <tr>\n",
       "      <th>cos_prov_spcl_desc_Others</th>\n",
       "      <td>0.004162</td>\n",
       "    </tr>\n",
       "    <tr>\n",
       "      <th>cos_prov_spcl_desc_ANESTHESIOLOGIST</th>\n",
       "      <td>0.001019</td>\n",
       "    </tr>\n",
       "    <tr>\n",
       "      <th>cos_prov_spcl_desc_PATHOLOGIST</th>\n",
       "      <td>0.000438</td>\n",
       "    </tr>\n",
       "    <tr>\n",
       "      <th>cos_prov_spcl_desc_CARDIOLOGIST</th>\n",
       "      <td>0.000281</td>\n",
       "    </tr>\n",
       "    <tr>\n",
       "      <th>cos_prov_spcl_desc_MEDICAL SUPPLY FIRM</th>\n",
       "      <td>0.000230</td>\n",
       "    </tr>\n",
       "    <tr>\n",
       "      <th>cos_prov_spcl_desc_RADIOLOGIST</th>\n",
       "      <td>0.000227</td>\n",
       "    </tr>\n",
       "    <tr>\n",
       "      <th>cos_prov_spcl_desc_ORTHOPEDIST</th>\n",
       "      <td>0.000224</td>\n",
       "    </tr>\n",
       "    <tr>\n",
       "      <th>cos_prov_spcl_desc_INTERNIST</th>\n",
       "      <td>0.000069</td>\n",
       "    </tr>\n",
       "    <tr>\n",
       "      <th>cos_prov_spcl_desc_HOSPITAL NON-PAR OUT OF AREA</th>\n",
       "      <td>0.000049</td>\n",
       "    </tr>\n",
       "    <tr>\n",
       "      <th>cos_prov_spcl_desc_FAMILY PRACTICE</th>\n",
       "      <td>0.000027</td>\n",
       "    </tr>\n",
       "  </tbody>\n",
       "</table>\n",
       "</div>"
      ],
      "text/plain": [
       "                                                 importance\n",
       "complainant_Par                                    0.445982\n",
       "complainant_Non-Par                                0.384908\n",
       "facility_type_PHYSICIAN                            0.059206\n",
       "facility_type_HOSPITAL                             0.035274\n",
       "cos_prov_spcl_desc_No_value                        0.032988\n",
       "cos_prov_spcl_desc_INDEPENDENT LAB                 0.015116\n",
       "facility_type_No_value                             0.009984\n",
       "cos_prov_spcl_desc_HOSPITAL                        0.009818\n",
       "cos_prov_spcl_desc_Others                          0.004162\n",
       "cos_prov_spcl_desc_ANESTHESIOLOGIST                0.001019\n",
       "cos_prov_spcl_desc_PATHOLOGIST                     0.000438\n",
       "cos_prov_spcl_desc_CARDIOLOGIST                    0.000281\n",
       "cos_prov_spcl_desc_MEDICAL SUPPLY FIRM             0.000230\n",
       "cos_prov_spcl_desc_RADIOLOGIST                     0.000227\n",
       "cos_prov_spcl_desc_ORTHOPEDIST                     0.000224\n",
       "cos_prov_spcl_desc_INTERNIST                       0.000069\n",
       "cos_prov_spcl_desc_HOSPITAL NON-PAR OUT OF AREA    0.000049\n",
       "cos_prov_spcl_desc_FAMILY PRACTICE                 0.000027"
      ]
     },
     "execution_count": 39,
     "metadata": {},
     "output_type": "execute_result"
    }
   ],
   "source": [
    "feature_importances = pd.DataFrame(rf.feature_importances_,\n",
    "                                   index = X_train_ohe.columns,\n",
    "                                    columns=['importance']).sort_values('importance',ascending=False)\n",
    "feature_importances"
   ]
  },
  {
   "cell_type": "code",
   "execution_count": 44,
   "metadata": {},
   "outputs": [
    {
     "data": {
      "text/plain": [
       "Index(['complainant_Par', 'complainant_Non-Par', 'facility_type_PHYSICIAN',\n",
       "       'facility_type_HOSPITAL', 'cos_prov_spcl_desc_No_value',\n",
       "       'cos_prov_spcl_desc_INDEPENDENT LAB', 'facility_type_No_value',\n",
       "       'cos_prov_spcl_desc_HOSPITAL', 'cos_prov_spcl_desc_Others',\n",
       "       'cos_prov_spcl_desc_ANESTHESIOLOGIST', 'cos_prov_spcl_desc_PATHOLOGIST',\n",
       "       'cos_prov_spcl_desc_CARDIOLOGIST',\n",
       "       'cos_prov_spcl_desc_MEDICAL SUPPLY FIRM',\n",
       "       'cos_prov_spcl_desc_RADIOLOGIST', 'cos_prov_spcl_desc_ORTHOPEDIST',\n",
       "       'cos_prov_spcl_desc_INTERNIST',\n",
       "       'cos_prov_spcl_desc_HOSPITAL NON-PAR OUT OF AREA',\n",
       "       'cos_prov_spcl_desc_FAMILY PRACTICE'],\n",
       "      dtype='object')"
      ]
     },
     "execution_count": 44,
     "metadata": {},
     "output_type": "execute_result"
    }
   ],
   "source": [
    "feature_importances.index"
   ]
  },
  {
   "cell_type": "code",
   "execution_count": 45,
   "metadata": {
    "collapsed": true
   },
   "outputs": [],
   "source": [
    "X_train_ohe1= X_train_ohe[['complainant_Par', 'complainant_Non-Par', 'facility_type_PHYSICIAN',\n",
    "       'facility_type_HOSPITAL',\n",
    "       'cos_prov_spcl_desc_INDEPENDENT LAB',\n",
    "       'cos_prov_spcl_desc_HOSPITAL',\n",
    "       'cos_prov_spcl_desc_ANESTHESIOLOGIST']]"
   ]
  },
  {
   "cell_type": "code",
   "execution_count": 46,
   "metadata": {
    "collapsed": true
   },
   "outputs": [],
   "source": [
    "X_test_ohe1= X_test_ohe[['complainant_Par', 'complainant_Non-Par', 'facility_type_PHYSICIAN',\n",
    "       'facility_type_HOSPITAL',\n",
    "       'cos_prov_spcl_desc_INDEPENDENT LAB',\n",
    "       'cos_prov_spcl_desc_HOSPITAL',\n",
    "       'cos_prov_spcl_desc_ANESTHESIOLOGIST']]"
   ]
  },
  {
   "cell_type": "code",
   "execution_count": 116,
   "metadata": {
    "collapsed": true
   },
   "outputs": [],
   "source": [
    "# X_test_ohe1= X_test_ohe[['complainant_Par', 'complainant_Non-Par', 'facility_type_PHYSICIAN',\n",
    "#        'facility_type_No_value', 'cos_prov_spcl_desc_Others',\n",
    "#        'cos_prov_spcl_desc_No_value', 'facility_type_HOSPITAL',\n",
    "#        'cos_prov_spcl_desc_INDEPENDENT LAB', 'cos_prov_spcl_desc_PATHOLOGIST',\n",
    "#        'cos_prov_spcl_desc_ANESTHESIOLOGIST', 'cos_prov_spcl_desc_RADIOLOGIST',\n",
    "#        'cos_prov_spcl_desc_MEDICAL SUPPLY FIRM', 'cos_prov_spcl_desc_HOSPITAL',\n",
    "#        'cos_prov_spcl_desc_HOSPITAL NON-PAR OUT OF AREA',\n",
    "#        'cos_prov_spcl_desc_INTERNIST', 'cos_prov_spcl_desc_CARDIOLOGIST',\n",
    "#        'cos_prov_spcl_desc_FAMILY PRACTICE', 'cos_prov_spcl_desc_ORTHOPEDIST']]"
   ]
  },
  {
   "cell_type": "code",
   "execution_count": 32,
   "metadata": {},
   "outputs": [
    {
     "name": "stdout",
     "output_type": "stream",
     "text": [
      "DecisionTreeClassifier(class_weight='balanced', criterion='gini',\n",
      "            max_depth=None, max_features=None, max_leaf_nodes=None,\n",
      "            min_impurity_split=1e-07, min_samples_leaf=1,\n",
      "            min_samples_split=2, min_weight_fraction_leaf=0.0,\n",
      "            presort=False, random_state=None, splitter='best')\n",
      "0.86859921808\n"
     ]
    }
   ],
   "source": [
    "from sklearn.model_selection import GridSearchCV\n",
    "from sklearn.tree import DecisionTreeClassifier\n",
    "parameter = [{'max_depth': [None, 1,10, 100, 200], 'min_samples_split': [2,5,10], 'min_samples_leaf': [1,5,10]}]\n",
    "model = GridSearchCV(DecisionTreeClassifier(class_weight= 'balanced'), parameter, cv=5)\n",
    "model.fit(X_train_ohe1, Y_train)\n",
    "print(model.best_estimator_)\n",
    "print(model.score(X_test_ohe1, Y_test))"
   ]
  },
  {
   "cell_type": "code",
   "execution_count": 47,
   "metadata": {
    "collapsed": true
   },
   "outputs": [],
   "source": [
    "data_feat = X_train_ohe1.append(X_test_ohe1, ignore_index = True)\n",
    "data_class = Y_train.append(Y_test, ignore_index = True)"
   ]
  },
  {
   "cell_type": "code",
   "execution_count": 48,
   "metadata": {},
   "outputs": [
    {
     "data": {
      "text/plain": [
       "DecisionTreeClassifier(class_weight=None, criterion='gini', max_depth=None,\n",
       "            max_features=None, max_leaf_nodes=None,\n",
       "            min_impurity_split=1e-07, min_samples_leaf=1,\n",
       "            min_samples_split=2, min_weight_fraction_leaf=0.0,\n",
       "            presort=False, random_state=None, splitter='best')"
      ]
     },
     "execution_count": 48,
     "metadata": {},
     "output_type": "execute_result"
    }
   ],
   "source": [
    "clf = DecisionTreeClassifier(criterion='gini',\n",
    "            max_depth=None, max_features=None, max_leaf_nodes=None,\n",
    "            min_impurity_split=1e-07, min_samples_leaf=1,\n",
    "            min_samples_split=2, min_weight_fraction_leaf=0.0,\n",
    "            presort=False, random_state=None, splitter='best')\n",
    "clf.fit(data_feat, data_class)"
   ]
  },
  {
   "cell_type": "code",
   "execution_count": 49,
   "metadata": {
    "collapsed": true
   },
   "outputs": [],
   "source": [
    "import graphviz \n",
    "from sklearn import tree \n",
    "#dot_data = tree.export_graphviz(clf, out_file=None) \n",
    "#graph = graphviz.Source(dot_data) \n",
    "#graph.render('data') \n",
    "\n",
    "dotfile = open(\"dtree12.dot\", 'w')\n",
    "dot_data = tree.export_graphviz(clf, out_file=dotfile, feature_names=data_feat.columns,\n",
    "                                class_names=clf.classes_,filled=True, rounded=True,\n",
    "                                special_characters=True)  \n",
    "dotfile.close()\n",
    "# graph = graphviz.Source(dot_data)  \n",
    "# graph "
   ]
  },
  {
   "cell_type": "code",
   "execution_count": 95,
   "metadata": {},
   "outputs": [
    {
     "name": "stdout",
     "output_type": "stream",
     "text": [
      "0.86859921808\n"
     ]
    }
   ],
   "source": [
    "model1 = DecisionTreeClassifier(class_weight='balanced', criterion='gini', max_depth=8,\n",
    "            max_features=None, max_leaf_nodes=None,\n",
    "            min_impurity_split=1e-07, min_samples_leaf=1,\n",
    "            min_samples_split=2, min_weight_fraction_leaf=0.0,\n",
    "            presort=False, random_state=None, splitter='best')\n",
    "print(model.score(X_test_ohe, Y_test))"
   ]
  },
  {
   "cell_type": "code",
   "execution_count": 99,
   "metadata": {},
   "outputs": [
    {
     "data": {
      "text/plain": [
       "array(['Overturn', 'Uphold'], dtype=object)"
      ]
     },
     "execution_count": 99,
     "metadata": {},
     "output_type": "execute_result"
    }
   ],
   "source": [
    "clf.classes_"
   ]
  },
  {
   "cell_type": "code",
   "execution_count": 86,
   "metadata": {},
   "outputs": [
    {
     "data": {
      "image/png": "[encoded data removed]",
      "text/plain": [
       "<matplotlib.figure.Figure at 0x11efe668>"
      ]
     },
     "metadata": {},
     "output_type": "display_data"
    }
   ],
   "source": [
    "#plotting confusion matrix\n",
    "import seaborn as sns\n",
    "from sklearn.metrics import confusion_matrix\n",
    "import matplotlib.pyplot as plt\n",
    "C = confusion_matrix(Y_train, model.predict(X_train_ohe))\n",
    "sns.heatmap(C,annot=True, fmt=\".1f\", xticklabels=[\"overturn\",\"uphold\"], yticklabels=[\"overturn\",\"uphold\"])\n",
    "plt.xlabel('Predicted Class')\n",
    "plt.ylabel('Original Class')\n",
    "plt.show()"
   ]
  },
  {
   "cell_type": "code",
   "execution_count": 87,
   "metadata": {},
   "outputs": [
    {
     "data": {
      "image/png": "[encoded data removed]",
      "text/plain": [
       "<matplotlib.figure.Figure at 0x1236aef0>"
      ]
     },
     "metadata": {},
     "output_type": "display_data"
    }
   ],
   "source": [
    "#plotting confusion matrix\n",
    "import seaborn as sns\n",
    "from sklearn.metrics import confusion_matrix\n",
    "import matplotlib.pyplot as plt\n",
    "C = confusion_matrix(Y_test, model.predict(X_test_ohe))\n",
    "sns.heatmap(C,annot=True, fmt=\".1f\", xticklabels=[\"overturn\",\"uphold\"], yticklabels=[\"overturn\",\"uphold\"])\n",
    "plt.xlabel('Predicted Class')\n",
    "plt.ylabel('Original Class')\n",
    "plt.show()"
   ]
  },
  {
   "cell_type": "code",
   "execution_count": 88,
   "metadata": {
    "collapsed": true
   },
   "outputs": [],
   "source": [
    "data_feat = X_train_ohe.append(X_test_ohe, ignore_index = True)\n",
    "data_class = Y_train.append(Y_test, ignore_index = True)"
   ]
  },
  {
   "cell_type": "code",
   "execution_count": 103,
   "metadata": {},
   "outputs": [
    {
     "data": {
      "text/plain": [
       "Index(['facility_type_No_value', 'facility_type_PHYSICIAN',\n",
       "       'facility_type_HOSPITAL', 'complainant_Non-Par', 'complainant_Par',\n",
       "       'cos_prov_spcl_desc_No_value', 'cos_prov_spcl_desc_INDEPENDENT LAB',\n",
       "       'cos_prov_spcl_desc_FAMILY PRACTICE', 'cos_prov_spcl_desc_HOSPITAL',\n",
       "       'cos_prov_spcl_desc_RADIOLOGIST', 'cos_prov_spcl_desc_Others',\n",
       "       'cos_prov_spcl_desc_HOSPITAL NON-PAR OUT OF AREA',\n",
       "       'cos_prov_spcl_desc_PATHOLOGIST', 'cos_prov_spcl_desc_ORTHOPEDIST',\n",
       "       'cos_prov_spcl_desc_ANESTHESIOLOGIST',\n",
       "       'cos_prov_spcl_desc_CARDIOLOGIST', 'cos_prov_spcl_desc_INTERNIST',\n",
       "       'cos_prov_spcl_desc_MEDICAL SUPPLY FIRM'],\n",
       "      dtype='object')"
      ]
     },
     "execution_count": 103,
     "metadata": {},
     "output_type": "execute_result"
    }
   ],
   "source": [
    "data_feat.columns"
   ]
  },
  {
   "cell_type": "code",
   "execution_count": null,
   "metadata": {
    "collapsed": true
   },
   "outputs": [],
   "source": [
    "facility_type_HOSPITAL\n",
    "complainant_Par\n",
    "cos_prov_spcl_desc_No_value\n",
    "cos_prov_spcl_desc_Others\n",
    "cos_prov_spcl_desc_CARDIOLOGIST\n",
    "cos_prov_spcl_desc_FAMILY PRACTICE\n",
    "cos_prov_spcl_desc_HOSPITAL NON-PAR OUT OF AREA\n",
    "cos_prov_spcl_desc_INTERNIST\n",
    "cos_prov_spcl_desc_ORTHOPEDIST\n",
    "cos_prov_spcl_desc_HOSPITAL\n",
    "cos_prov_spcl_desc_RADIOLOGIST\n",
    "cos_prov_spcl_desc_INDEPENDENT LAB\n",
    "cos_prov_spcl_desc_MEDICAL SUPPLY FIRM\n",
    "cos_prov_spcl_desc_PATHOLOGIST\n",
    "cos_prov_spcl_desc_ANESTHESIOLOGIST\n",
    "facility_type_PHYSICIAN\n",
    "facility_type_No_value\n",
    "complainant_Non-Par"
   ]
  },
  {
   "cell_type": "code",
   "execution_count": 91,
   "metadata": {},
   "outputs": [
    {
     "data": {
      "text/html": [
       "<div>\n",
       "<style>\n",
       "    .dataframe thead tr:only-child th {\n",
       "        text-align: right;\n",
       "    }\n",
       "\n",
       "    .dataframe thead th {\n",
       "        text-align: left;\n",
       "    }\n",
       "\n",
       "    .dataframe tbody tr th {\n",
       "        vertical-align: top;\n",
       "    }\n",
       "</style>\n",
       "<table border=\"1\" class=\"dataframe\">\n",
       "  <thead>\n",
       "    <tr style=\"text-align: right;\">\n",
       "      <th></th>\n",
       "      <th>facility_type_No_value</th>\n",
       "      <th>facility_type_PHYSICIAN</th>\n",
       "      <th>facility_type_HOSPITAL</th>\n",
       "      <th>complainant_Non-Par</th>\n",
       "      <th>complainant_Par</th>\n",
       "      <th>cos_prov_spcl_desc_No_value</th>\n",
       "      <th>cos_prov_spcl_desc_INDEPENDENT LAB</th>\n",
       "      <th>cos_prov_spcl_desc_FAMILY PRACTICE</th>\n",
       "      <th>cos_prov_spcl_desc_HOSPITAL</th>\n",
       "      <th>cos_prov_spcl_desc_RADIOLOGIST</th>\n",
       "      <th>cos_prov_spcl_desc_Others</th>\n",
       "      <th>cos_prov_spcl_desc_HOSPITAL NON-PAR OUT OF AREA</th>\n",
       "      <th>cos_prov_spcl_desc_PATHOLOGIST</th>\n",
       "      <th>cos_prov_spcl_desc_ORTHOPEDIST</th>\n",
       "      <th>cos_prov_spcl_desc_ANESTHESIOLOGIST</th>\n",
       "      <th>cos_prov_spcl_desc_CARDIOLOGIST</th>\n",
       "      <th>cos_prov_spcl_desc_INTERNIST</th>\n",
       "      <th>cos_prov_spcl_desc_MEDICAL SUPPLY FIRM</th>\n",
       "    </tr>\n",
       "  </thead>\n",
       "  <tbody>\n",
       "    <tr>\n",
       "      <th>0</th>\n",
       "      <td>1</td>\n",
       "      <td>0</td>\n",
       "      <td>0</td>\n",
       "      <td>1</td>\n",
       "      <td>0</td>\n",
       "      <td>1</td>\n",
       "      <td>0</td>\n",
       "      <td>0</td>\n",
       "      <td>0</td>\n",
       "      <td>0</td>\n",
       "      <td>0</td>\n",
       "      <td>0</td>\n",
       "      <td>0</td>\n",
       "      <td>0</td>\n",
       "      <td>0</td>\n",
       "      <td>0</td>\n",
       "      <td>0</td>\n",
       "      <td>0</td>\n",
       "    </tr>\n",
       "    <tr>\n",
       "      <th>1</th>\n",
       "      <td>0</td>\n",
       "      <td>1</td>\n",
       "      <td>0</td>\n",
       "      <td>1</td>\n",
       "      <td>0</td>\n",
       "      <td>0</td>\n",
       "      <td>1</td>\n",
       "      <td>0</td>\n",
       "      <td>0</td>\n",
       "      <td>0</td>\n",
       "      <td>0</td>\n",
       "      <td>0</td>\n",
       "      <td>0</td>\n",
       "      <td>0</td>\n",
       "      <td>0</td>\n",
       "      <td>0</td>\n",
       "      <td>0</td>\n",
       "      <td>0</td>\n",
       "    </tr>\n",
       "    <tr>\n",
       "      <th>2</th>\n",
       "      <td>0</td>\n",
       "      <td>1</td>\n",
       "      <td>0</td>\n",
       "      <td>1</td>\n",
       "      <td>0</td>\n",
       "      <td>0</td>\n",
       "      <td>0</td>\n",
       "      <td>1</td>\n",
       "      <td>0</td>\n",
       "      <td>0</td>\n",
       "      <td>0</td>\n",
       "      <td>0</td>\n",
       "      <td>0</td>\n",
       "      <td>0</td>\n",
       "      <td>0</td>\n",
       "      <td>0</td>\n",
       "      <td>0</td>\n",
       "      <td>0</td>\n",
       "    </tr>\n",
       "    <tr>\n",
       "      <th>3</th>\n",
       "      <td>1</td>\n",
       "      <td>0</td>\n",
       "      <td>0</td>\n",
       "      <td>1</td>\n",
       "      <td>0</td>\n",
       "      <td>1</td>\n",
       "      <td>0</td>\n",
       "      <td>0</td>\n",
       "      <td>0</td>\n",
       "      <td>0</td>\n",
       "      <td>0</td>\n",
       "      <td>0</td>\n",
       "      <td>0</td>\n",
       "      <td>0</td>\n",
       "      <td>0</td>\n",
       "      <td>0</td>\n",
       "      <td>0</td>\n",
       "      <td>0</td>\n",
       "    </tr>\n",
       "    <tr>\n",
       "      <th>4</th>\n",
       "      <td>0</td>\n",
       "      <td>0</td>\n",
       "      <td>1</td>\n",
       "      <td>0</td>\n",
       "      <td>1</td>\n",
       "      <td>0</td>\n",
       "      <td>0</td>\n",
       "      <td>0</td>\n",
       "      <td>1</td>\n",
       "      <td>0</td>\n",
       "      <td>0</td>\n",
       "      <td>0</td>\n",
       "      <td>0</td>\n",
       "      <td>0</td>\n",
       "      <td>0</td>\n",
       "      <td>0</td>\n",
       "      <td>0</td>\n",
       "      <td>0</td>\n",
       "    </tr>\n",
       "  </tbody>\n",
       "</table>\n",
       "</div>"
      ],
      "text/plain": [
       "   facility_type_No_value  facility_type_PHYSICIAN  facility_type_HOSPITAL  \\\n",
       "0                       1                        0                       0   \n",
       "1                       0                        1                       0   \n",
       "2                       0                        1                       0   \n",
       "3                       1                        0                       0   \n",
       "4                       0                        0                       1   \n",
       "\n",
       "   complainant_Non-Par  complainant_Par  cos_prov_spcl_desc_No_value  \\\n",
       "0                    1                0                            1   \n",
       "1                    1                0                            0   \n",
       "2                    1                0                            0   \n",
       "3                    1                0                            1   \n",
       "4                    0                1                            0   \n",
       "\n",
       "   cos_prov_spcl_desc_INDEPENDENT LAB  cos_prov_spcl_desc_FAMILY PRACTICE  \\\n",
       "0                                   0                                   0   \n",
       "1                                   1                                   0   \n",
       "2                                   0                                   1   \n",
       "3                                   0                                   0   \n",
       "4                                   0                                   0   \n",
       "\n",
       "   cos_prov_spcl_desc_HOSPITAL  cos_prov_spcl_desc_RADIOLOGIST  \\\n",
       "0                            0                               0   \n",
       "1                            0                               0   \n",
       "2                            0                               0   \n",
       "3                            0                               0   \n",
       "4                            1                               0   \n",
       "\n",
       "   cos_prov_spcl_desc_Others  cos_prov_spcl_desc_HOSPITAL NON-PAR OUT OF AREA  \\\n",
       "0                          0                                                0   \n",
       "1                          0                                                0   \n",
       "2                          0                                                0   \n",
       "3                          0                                                0   \n",
       "4                          0                                                0   \n",
       "\n",
       "   cos_prov_spcl_desc_PATHOLOGIST  cos_prov_spcl_desc_ORTHOPEDIST  \\\n",
       "0                               0                               0   \n",
       "1                               0                               0   \n",
       "2                               0                               0   \n",
       "3                               0                               0   \n",
       "4                               0                               0   \n",
       "\n",
       "   cos_prov_spcl_desc_ANESTHESIOLOGIST  cos_prov_spcl_desc_CARDIOLOGIST  \\\n",
       "0                                    0                                0   \n",
       "1                                    0                                0   \n",
       "2                                    0                                0   \n",
       "3                                    0                                0   \n",
       "4                                    0                                0   \n",
       "\n",
       "   cos_prov_spcl_desc_INTERNIST  cos_prov_spcl_desc_MEDICAL SUPPLY FIRM  \n",
       "0                             0                                       0  \n",
       "1                             0                                       0  \n",
       "2                             0                                       0  \n",
       "3                             0                                       0  \n",
       "4                             0                                       0  "
      ]
     },
     "execution_count": 91,
     "metadata": {},
     "output_type": "execute_result"
    }
   ],
   "source": [
    "data_feat.head()"
   ]
  },
  {
   "cell_type": "code",
   "execution_count": 125,
   "metadata": {},
   "outputs": [
    {
     "data": {
      "text/plain": [
       "DecisionTreeClassifier(class_weight=None, criterion='gini', max_depth=20,\n",
       "            max_features=None, max_leaf_nodes=None,\n",
       "            min_impurity_split=1e-07, min_samples_leaf=1,\n",
       "            min_samples_split=2, min_weight_fraction_leaf=0.0,\n",
       "            presort=False, random_state=None, splitter='best')"
      ]
     },
     "execution_count": 125,
     "metadata": {},
     "output_type": "execute_result"
    }
   ],
   "source": [
    "clf = DecisionTreeClassifier(criterion='gini', max_depth=20,\n",
    "            max_features=None, max_leaf_nodes=None,\n",
    "            min_impurity_split=1e-07, min_samples_leaf=1,\n",
    "            min_samples_split=2, min_weight_fraction_leaf=0.0,\n",
    "            presort=False, random_state=None, splitter='best')\n",
    "clf.fit(X_train_ohe1, Y_train)"
   ]
  },
  {
   "cell_type": "code",
   "execution_count": 124,
   "metadata": {},
   "outputs": [
    {
     "data": {
      "text/plain": [
       "Index(['complainant_Par', 'complainant_Non-Par', 'facility_type_PHYSICIAN',\n",
       "       'facility_type_HOSPITAL', 'cos_prov_spcl_desc_INDEPENDENT LAB',\n",
       "       'cos_prov_spcl_desc_PATHOLOGIST', 'cos_prov_spcl_desc_ANESTHESIOLOGIST',\n",
       "       'cos_prov_spcl_desc_RADIOLOGIST',\n",
       "       'cos_prov_spcl_desc_MEDICAL SUPPLY FIRM',\n",
       "       'cos_prov_spcl_desc_HOSPITAL'],\n",
       "      dtype='object')"
      ]
     },
     "execution_count": 124,
     "metadata": {},
     "output_type": "execute_result"
    }
   ],
   "source": [
    "X_train_ohe1.columns"
   ]
  },
  {
   "cell_type": "code",
   "execution_count": 129,
   "metadata": {
    "collapsed": true
   },
   "outputs": [],
   "source": [
    "import graphviz \n",
    "from sklearn import tree \n",
    "#dot_data = tree.export_graphviz(clf, out_file=None) \n",
    "#graph = graphviz.Source(dot_data) \n",
    "#graph.render('data') \n",
    "\n",
    "dotfile = open(\"dtree9.dot\", 'w')\n",
    "dot_data = tree.export_graphviz(clf, out_file=dotfile, feature_names=X_train_ohe1.columns,\n",
    "                                class_names=clf.classes_,filled=True, rounded=True,\n",
    "                                special_characters=True)  \n",
    "dotfile.close()\n",
    "# graph = graphviz.Source(dot_data)  \n",
    "# graph "
   ]
  },
  {
   "cell_type": "code",
   "execution_count": 101,
   "metadata": {},
   "outputs": [
    {
     "name": "stdout",
     "output_type": "stream",
     "text": [
      "facility_type_HOSPITAL\n",
      "complainant_Par\n",
      "cos_prov_spcl_desc_No_value\n",
      "cos_prov_spcl_desc_Others\n",
      "cos_prov_spcl_desc_CARDIOLOGIST\n",
      "cos_prov_spcl_desc_FAMILY PRACTICE\n",
      "cos_prov_spcl_desc_HOSPITAL NON-PAR OUT OF AREA\n",
      "cos_prov_spcl_desc_INTERNIST\n",
      "cos_prov_spcl_desc_ORTHOPEDIST\n",
      "cos_prov_spcl_desc_HOSPITAL\n",
      "cos_prov_spcl_desc_RADIOLOGIST\n",
      "cos_prov_spcl_desc_INDEPENDENT LAB\n",
      "cos_prov_spcl_desc_MEDICAL SUPPLY FIRM\n",
      "cos_prov_spcl_desc_PATHOLOGIST\n",
      "cos_prov_spcl_desc_ANESTHESIOLOGIST\n",
      "facility_type_PHYSICIAN\n",
      "facility_type_No_value\n",
      "complainant_Non-Par\n"
     ]
    }
   ],
   "source": [
    "bow_feature_names = data_feat.columns\n",
    "w = clf.feature_importances_\n",
    "#w_new = (w.T).reshape(w.shape[1],) \n",
    "ranking_index = np.argsort(w)\n",
    "top_20 = ranking_index[-20:]\n",
    "for index in top_20:\n",
    "    print(bow_feature_names[index])"
   ]
  },
  {
   "cell_type": "code",
   "execution_count": 102,
   "metadata": {},
   "outputs": [
    {
     "data": {
      "text/plain": [
       "array([ 2,  4,  5, 10, 15,  7, 11, 16, 13,  8,  9,  6, 17, 12, 14,  1,  0,\n",
       "        3], dtype=int64)"
      ]
     },
     "execution_count": 102,
     "metadata": {},
     "output_type": "execute_result"
    }
   ],
   "source": [
    "top_20"
   ]
  },
  {
   "cell_type": "code",
   "execution_count": null,
   "metadata": {
    "collapsed": true
   },
   "outputs": [],
   "source": []
  },
  {
   "cell_type": "code",
   "execution_count": null,
   "metadata": {
    "collapsed": true
   },
   "outputs": [],
   "source": []
  }
 ],
 "metadata": {
  "kernelspec": {
   "display_name": "Python 3",
   "language": "python",
   "name": "python3"
  },
  "language_info": {
   "codemirror_mode": {
    "name": "ipython",
    "version": 3
   },
   "file_extension": ".py",
   "mimetype": "text/x-python",
   "name": "python",
   "nbconvert_exporter": "python",
   "pygments_lexer": "ipython3",
   "version": "3.6.1"
  }
 },
 "nbformat": 4,
 "nbformat_minor": 2
}
