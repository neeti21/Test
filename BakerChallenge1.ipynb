{
 "cells": [
  {
   "cell_type": "code",
   "execution_count": 14,
   "metadata": {
    "collapsed": true
   },
   "outputs": [],
   "source": [
    "import pandas as pd\n",
    "import numpy as np\n",
    "\n",
    "#from pyhive import hive            \n",
    "#conn = hive.connect(host='dbslp0500', port=10002, username=\"nnair101\" , password=\"\",auth=\"LDAP\")\n",
    "\n",
    "#df = pd.read_sql(\"SELECT * FROM clinical_usrs.final_baker1 limit 1000\", conn)\n",
    "df = pd.read_csv('baker_data.csv')"
   ]
  },
  {
   "cell_type": "code",
   "execution_count": 15,
   "metadata": {},
   "outputs": [
    {
     "name": "stdout",
     "output_type": "stream",
     "text": [
      "(1048575, 27)\n"
     ]
    }
   ],
   "source": [
    "print(df.shape)"
   ]
  },
  {
   "cell_type": "code",
   "execution_count": 16,
   "metadata": {},
   "outputs": [
    {
     "data": {
      "text/plain": [
       "final_sts_cd               object\n",
       "icd_ver_cd                float64\n",
       "diag_cd                    object\n",
       "billed_amt                float64\n",
       "liable_chrg_amt           float64\n",
       "allw_amt                  float64\n",
       "covered_amt               float64\n",
       "paid_amt                  float64\n",
       "dup_charge_amt            float64\n",
       "fiduciary_typ_cd            int64\n",
       "denial_ind                  int64\n",
       "tin                        object\n",
       "service_npi                object\n",
       "bill_npi                   object\n",
       "claim_location_cd           int64\n",
       "claim_place_of_srvc_cd      int64\n",
       "form_typ_cd                 int64\n",
       "num_calls                 float64\n",
       "specialty_typ_cd          float64\n",
       "reason_cd                  object\n",
       "proc_cd                    object\n",
       "claim_processing_tat        int64\n",
       "pre_processing_tat          int64\n",
       "paid_from_adjd_tat          int64\n",
       "inquiry_issue_flag         object\n",
       "call_flag                   int64\n",
       "repeat_call_flag            int64\n",
       "dtype: object"
      ]
     },
     "execution_count": 16,
     "metadata": {},
     "output_type": "execute_result"
    }
   ],
   "source": [
    "df.dtypes"
   ]
  },
  {
   "cell_type": "code",
   "execution_count": 17,
   "metadata": {
    "collapsed": true
   },
   "outputs": [],
   "source": [
    "df['icd_ver_cd'] = df['icd_ver_cd'].astype(object)\n",
    "df['fiduciary_typ_cd'] = df['fiduciary_typ_cd'].astype(object)\n",
    "df['denial_ind'] = df['denial_ind'].astype(object)\n",
    "df['claim_location_cd'] = df['claim_location_cd'].astype(object)\n",
    "df['claim_place_of_srvc_cd'] = df['claim_place_of_srvc_cd'].astype(object)\n",
    "df['form_typ_cd'] = df['form_typ_cd'].astype(object)\n",
    "df['specialty_typ_cd'] = df['specialty_typ_cd'].astype(object)"
   ]
  },
  {
   "cell_type": "code",
   "execution_count": 18,
   "metadata": {
    "collapsed": true
   },
   "outputs": [],
   "source": [
    "df.drop(['num_calls'], axis = 1, inplace = True)\n",
    "df['class'] = df['call_flag']\n",
    "df.drop(['call_flag'], axis = 1, inplace = True)"
   ]
  },
  {
   "cell_type": "code",
   "execution_count": 19,
   "metadata": {},
   "outputs": [
    {
     "data": {
      "text/plain": [
       "final_sts_cd               object\n",
       "icd_ver_cd                 object\n",
       "diag_cd                    object\n",
       "billed_amt                float64\n",
       "liable_chrg_amt           float64\n",
       "allw_amt                  float64\n",
       "covered_amt               float64\n",
       "paid_amt                  float64\n",
       "dup_charge_amt            float64\n",
       "fiduciary_typ_cd           object\n",
       "denial_ind                 object\n",
       "tin                        object\n",
       "service_npi                object\n",
       "bill_npi                   object\n",
       "claim_location_cd          object\n",
       "claim_place_of_srvc_cd     object\n",
       "form_typ_cd                object\n",
       "specialty_typ_cd           object\n",
       "reason_cd                  object\n",
       "proc_cd                    object\n",
       "claim_processing_tat        int64\n",
       "pre_processing_tat          int64\n",
       "paid_from_adjd_tat          int64\n",
       "inquiry_issue_flag         object\n",
       "repeat_call_flag            int64\n",
       "class                       int64\n",
       "dtype: object"
      ]
     },
     "execution_count": 19,
     "metadata": {},
     "output_type": "execute_result"
    }
   ],
   "source": [
    "df.dtypes"
   ]
  },
  {
   "cell_type": "code",
   "execution_count": 20,
   "metadata": {},
   "outputs": [
    {
     "data": {
      "text/html": [
       "<div>\n",
       "<style>\n",
       "    .dataframe thead tr:only-child th {\n",
       "        text-align: right;\n",
       "    }\n",
       "\n",
       "    .dataframe thead th {\n",
       "        text-align: left;\n",
       "    }\n",
       "\n",
       "    .dataframe tbody tr th {\n",
       "        vertical-align: top;\n",
       "    }\n",
       "</style>\n",
       "<table border=\"1\" class=\"dataframe\">\n",
       "  <thead>\n",
       "    <tr style=\"text-align: right;\">\n",
       "      <th></th>\n",
       "      <th>final_sts_cd</th>\n",
       "      <th>icd_ver_cd</th>\n",
       "      <th>diag_cd</th>\n",
       "      <th>billed_amt</th>\n",
       "      <th>liable_chrg_amt</th>\n",
       "      <th>allw_amt</th>\n",
       "      <th>covered_amt</th>\n",
       "      <th>paid_amt</th>\n",
       "      <th>dup_charge_amt</th>\n",
       "      <th>fiduciary_typ_cd</th>\n",
       "      <th>...</th>\n",
       "      <th>form_typ_cd</th>\n",
       "      <th>specialty_typ_cd</th>\n",
       "      <th>reason_cd</th>\n",
       "      <th>proc_cd</th>\n",
       "      <th>claim_processing_tat</th>\n",
       "      <th>pre_processing_tat</th>\n",
       "      <th>paid_from_adjd_tat</th>\n",
       "      <th>inquiry_issue_flag</th>\n",
       "      <th>repeat_call_flag</th>\n",
       "      <th>class</th>\n",
       "    </tr>\n",
       "  </thead>\n",
       "  <tbody>\n",
       "    <tr>\n",
       "      <th>0</th>\n",
       "      <td>P</td>\n",
       "      <td>0</td>\n",
       "      <td>K920</td>\n",
       "      <td>294.0</td>\n",
       "      <td>294.0</td>\n",
       "      <td>95.880</td>\n",
       "      <td>294.0</td>\n",
       "      <td>95.880</td>\n",
       "      <td>0.0</td>\n",
       "      <td>4</td>\n",
       "      <td>...</td>\n",
       "      <td>2</td>\n",
       "      <td>332</td>\n",
       "      <td>NaN</td>\n",
       "      <td>NaN</td>\n",
       "      <td>9</td>\n",
       "      <td>1</td>\n",
       "      <td>17</td>\n",
       "      <td>Issue</td>\n",
       "      <td>0</td>\n",
       "      <td>0</td>\n",
       "    </tr>\n",
       "    <tr>\n",
       "      <th>1</th>\n",
       "      <td>P</td>\n",
       "      <td>0</td>\n",
       "      <td>C700</td>\n",
       "      <td>426.0</td>\n",
       "      <td>426.0</td>\n",
       "      <td>138.924</td>\n",
       "      <td>426.0</td>\n",
       "      <td>138.924</td>\n",
       "      <td>0.0</td>\n",
       "      <td>4</td>\n",
       "      <td>...</td>\n",
       "      <td>2</td>\n",
       "      <td>332</td>\n",
       "      <td>264</td>\n",
       "      <td>99233</td>\n",
       "      <td>17</td>\n",
       "      <td>5</td>\n",
       "      <td>9</td>\n",
       "      <td>Issue</td>\n",
       "      <td>0</td>\n",
       "      <td>0</td>\n",
       "    </tr>\n",
       "    <tr>\n",
       "      <th>2</th>\n",
       "      <td>P</td>\n",
       "      <td>0</td>\n",
       "      <td>C700</td>\n",
       "      <td>426.0</td>\n",
       "      <td>426.0</td>\n",
       "      <td>138.924</td>\n",
       "      <td>426.0</td>\n",
       "      <td>138.924</td>\n",
       "      <td>0.0</td>\n",
       "      <td>4</td>\n",
       "      <td>...</td>\n",
       "      <td>2</td>\n",
       "      <td>332</td>\n",
       "      <td>NaN</td>\n",
       "      <td>NaN</td>\n",
       "      <td>11</td>\n",
       "      <td>4</td>\n",
       "      <td>14</td>\n",
       "      <td>Issue</td>\n",
       "      <td>0</td>\n",
       "      <td>0</td>\n",
       "    </tr>\n",
       "    <tr>\n",
       "      <th>3</th>\n",
       "      <td>P</td>\n",
       "      <td>0</td>\n",
       "      <td>K920</td>\n",
       "      <td>564.0</td>\n",
       "      <td>564.0</td>\n",
       "      <td>182.892</td>\n",
       "      <td>564.0</td>\n",
       "      <td>182.892</td>\n",
       "      <td>0.0</td>\n",
       "      <td>4</td>\n",
       "      <td>...</td>\n",
       "      <td>2</td>\n",
       "      <td>332</td>\n",
       "      <td>264</td>\n",
       "      <td>99222</td>\n",
       "      <td>11</td>\n",
       "      <td>1</td>\n",
       "      <td>14</td>\n",
       "      <td>Issue</td>\n",
       "      <td>0</td>\n",
       "      <td>0</td>\n",
       "    </tr>\n",
       "    <tr>\n",
       "      <th>4</th>\n",
       "      <td>P</td>\n",
       "      <td>0</td>\n",
       "      <td>I4891</td>\n",
       "      <td>42.0</td>\n",
       "      <td>42.0</td>\n",
       "      <td>11.472</td>\n",
       "      <td>42.0</td>\n",
       "      <td>11.472</td>\n",
       "      <td>0.0</td>\n",
       "      <td>4</td>\n",
       "      <td>...</td>\n",
       "      <td>2</td>\n",
       "      <td>2</td>\n",
       "      <td>NaN</td>\n",
       "      <td>NaN</td>\n",
       "      <td>5</td>\n",
       "      <td>3</td>\n",
       "      <td>19</td>\n",
       "      <td>Issue</td>\n",
       "      <td>0</td>\n",
       "      <td>0</td>\n",
       "    </tr>\n",
       "  </tbody>\n",
       "</table>\n",
       "<p>5 rows × 26 columns</p>\n",
       "</div>"
      ],
      "text/plain": [
       "  final_sts_cd icd_ver_cd diag_cd  billed_amt  liable_chrg_amt  allw_amt  \\\n",
       "0            P          0    K920       294.0            294.0    95.880   \n",
       "1            P          0    C700       426.0            426.0   138.924   \n",
       "2            P          0    C700       426.0            426.0   138.924   \n",
       "3            P          0    K920       564.0            564.0   182.892   \n",
       "4            P          0   I4891        42.0             42.0    11.472   \n",
       "\n",
       "   covered_amt  paid_amt  dup_charge_amt fiduciary_typ_cd  ...  form_typ_cd  \\\n",
       "0        294.0    95.880             0.0                4  ...            2   \n",
       "1        426.0   138.924             0.0                4  ...            2   \n",
       "2        426.0   138.924             0.0                4  ...            2   \n",
       "3        564.0   182.892             0.0                4  ...            2   \n",
       "4         42.0    11.472             0.0                4  ...            2   \n",
       "\n",
       "  specialty_typ_cd reason_cd proc_cd claim_processing_tat pre_processing_tat  \\\n",
       "0              332       NaN     NaN                    9                  1   \n",
       "1              332       264   99233                   17                  5   \n",
       "2              332       NaN     NaN                   11                  4   \n",
       "3              332       264   99222                   11                  1   \n",
       "4                2       NaN     NaN                    5                  3   \n",
       "\n",
       "  paid_from_adjd_tat inquiry_issue_flag repeat_call_flag class  \n",
       "0                 17              Issue                0     0  \n",
       "1                  9              Issue                0     0  \n",
       "2                 14              Issue                0     0  \n",
       "3                 14              Issue                0     0  \n",
       "4                 19              Issue                0     0  \n",
       "\n",
       "[5 rows x 26 columns]"
      ]
     },
     "execution_count": 20,
     "metadata": {},
     "output_type": "execute_result"
    }
   ],
   "source": [
    "df.head()"
   ]
  },
  {
   "cell_type": "code",
   "execution_count": 21,
   "metadata": {},
   "outputs": [
    {
     "data": {
      "text/plain": [
       "19076"
      ]
     },
     "execution_count": 21,
     "metadata": {},
     "output_type": "execute_result"
    }
   ],
   "source": [
    "df['class'].sum()"
   ]
  },
  {
   "cell_type": "code",
   "execution_count": 22,
   "metadata": {},
   "outputs": [
    {
     "data": {
      "text/plain": [
       "final_sts_cd                   0\n",
       "icd_ver_cd                    35\n",
       "diag_cd                       35\n",
       "billed_amt                     0\n",
       "liable_chrg_amt                0\n",
       "allw_amt                       0\n",
       "covered_amt                    0\n",
       "paid_amt                       0\n",
       "dup_charge_amt                 0\n",
       "fiduciary_typ_cd               0\n",
       "denial_ind                     0\n",
       "tin                            0\n",
       "service_npi                    0\n",
       "bill_npi                       0\n",
       "claim_location_cd              0\n",
       "claim_place_of_srvc_cd         0\n",
       "form_typ_cd                    0\n",
       "specialty_typ_cd            5179\n",
       "reason_cd                 704919\n",
       "proc_cd                   709372\n",
       "claim_processing_tat           0\n",
       "pre_processing_tat             0\n",
       "paid_from_adjd_tat             0\n",
       "inquiry_issue_flag             0\n",
       "repeat_call_flag               0\n",
       "class                          0\n",
       "dtype: int64"
      ]
     },
     "execution_count": 22,
     "metadata": {},
     "output_type": "execute_result"
    }
   ],
   "source": [
    "df.isnull().sum()"
   ]
  },
  {
   "cell_type": "code",
   "execution_count": 23,
   "metadata": {
    "collapsed": true
   },
   "outputs": [],
   "source": [
    "df_con = df._get_numeric_data()\n",
    "df_con[df_con < 0] = 0\n",
    "\n",
    "# Outlier treatment of continuous features\n",
    "for col in df_con.columns.values: \n",
    "    if col != 'class':\n",
    "        Q1 = np.array(df_con[col].quantile([0.25]))[0]\n",
    "        Q3 = np.array(df_con[col].quantile([0.75]))[0]\n",
    "        IQR = Q3 - Q1\n",
    "        df_con.loc[df_con[col] < Q1 - 1.5*IQR, col] = Q1 - 1.5*IQR\n",
    "        df_con.loc[df_con[col] > Q3 + 1.5*IQR, col] = Q3 + 1.5*IQR\n"
   ]
  },
  {
   "cell_type": "code",
   "execution_count": 24,
   "metadata": {
    "collapsed": true
   },
   "outputs": [],
   "source": [
    "df_con['paid_by_billed'] = df_con['paid_amt']/df_con['billed_amt']"
   ]
  },
  {
   "cell_type": "code",
   "execution_count": 26,
   "metadata": {},
   "outputs": [
    {
     "data": {
      "text/plain": [
       "0"
      ]
     },
     "execution_count": 26,
     "metadata": {},
     "output_type": "execute_result"
    }
   ],
   "source": [
    "df_con['billed_amt'].sum()"
   ]
  },
  {
   "cell_type": "code",
   "execution_count": 25,
   "metadata": {},
   "outputs": [
    {
     "data": {
      "text/plain": [
       "162994"
      ]
     },
     "execution_count": 25,
     "metadata": {},
     "output_type": "execute_result"
    }
   ],
   "source": [
    "df_con['paid_by_billed'].isnull().sum()"
   ]
  },
  {
   "cell_type": "code",
   "execution_count": 3,
   "metadata": {
    "collapsed": true
   },
   "outputs": [],
   "source": [
    "#Separating numerical & str features\n",
    "df_str = df.select_dtypes(include=['object'])\n",
    "\n",
    "\n",
    "\n",
    "# Creating categorical features dataframe\n",
    "df_cat = df_str.apply(lambda x: x.str.strip())\n",
    "#df_cat = df_str.replace('', np.nan, regex = True)\n",
    "        \n",
    "        \n",
    "# Missing value imputation for categorical values\n",
    "df_cat = df_cat.replace(np.nan, 'No_value', regex = True)\n",
    "\n",
    "\n",
    "# Combining data\n",
    "data = pd.concat([df_cat, df_con], axis = 1)\n",
    "\n",
    "\n",
    "data_x = data.drop(['class'], axis = 1)\n",
    "data_y = data['class']"
   ]
  },
  {
   "cell_type": "code",
   "execution_count": 4,
   "metadata": {
    "collapsed": true
   },
   "outputs": [],
   "source": [
    "# train & test split\n",
    "from sklearn.model_selection import train_test_split\n",
    "X_train, X_test, Y_train, Y_test = train_test_split(data_x, data_y, test_size=0.2, random_state=0, stratify= data_y)"
   ]
  },
  {
   "cell_type": "code",
   "execution_count": 5,
   "metadata": {
    "collapsed": true
   },
   "outputs": [],
   "source": [
    "import scipy as sp\n",
    "from sklearn.feature_extraction.text import CountVectorizer\n",
    "count_vect = CountVectorizer(stop_words=None,token_pattern = r\"(?u)\\b\\w+\\b\", min_df = 0.00001)\n",
    "X_train_final = count_vect.fit_transform(X_train['final_sts_cd'].values)\n",
    "names = count_vect.get_feature_names()\n",
    "names = [str(r) for r in names]\n",
    "final_names = ['{}_{}'.format('final_sts_cd', a) for a in names]\n",
    "X_test_final = count_vect.transform(X_test['final_sts_cd'])"
   ]
  },
  {
   "cell_type": "code",
   "execution_count": 6,
   "metadata": {
    "collapsed": true
   },
   "outputs": [],
   "source": [
    "### Data Prep\n",
    "import scipy as sp\n",
    "from sklearn.feature_extraction.text import CountVectorizer\n",
    "# X_train_final = pd.DataFrame()\n",
    "# X_test_final = pd.DataFrame()\n",
    "for col in X_train.columns:\n",
    "    if X_train[col].dtypes == object and col != 'final_sts_cd':\n",
    "    #if col == 'final_sts_cd':\n",
    "        count_vect = CountVectorizer(stop_words=None,token_pattern = r\"(?u)\\b\\w+\\b\", min_df = 0.00001)\n",
    "        column = X_train[col]\n",
    "        \n",
    "        count_vect_df_train = count_vect.fit_transform(column.values)\n",
    "        #count_vect_df_train = pd.DataFrame(column_bow_train.todense(), columns=new_names)\n",
    "        #X_train_final = pd.concat([X_train_final, count_vect_df_train], axis=1)\n",
    "        X_train_final = sp.sparse.hstack((X_train_final, count_vect_df_train),format='csr')\n",
    "        names = count_vect.get_feature_names()\n",
    "        names = [str(r) for r in names]\n",
    "        new_names = ['{}_{}'.format(col, a) for a in names]\n",
    "        final_names.extend(new_names)\n",
    "        \n",
    "        count_vect_df_test = count_vect.transform(X_test[col])\n",
    "        #count_vect_df_test = pd.DataFrame(column_bow_test.todense(), columns=new_names)\n",
    "        #X_test_final = pd.concat([X_test_final, count_vect_df_test], axis=1)\n",
    "        X_test_final = sp.sparse.hstack((X_test_final, count_vect_df_test),format='csr')\n",
    "        \n",
    "#     elif X_train[col].dtypes != object and col != 'final_sts_cd':\n",
    "#         X_train_final = sp.sparse.hstack((X_train_final, X_train[col].values),format='csr')\n",
    "#         final_names.extend(col)\n",
    "#         #X_train_final = pd.concat([X_train_final, X_train[col]], axis=1)\n",
    "#         X_test_final = sp.sparse.hstack((X_test_final, X_test[col].values),format='csr')\n",
    "#         #X_test_final = pd.concat([X_test_final, X_test[col]], axis=1)"
   ]
  },
  {
   "cell_type": "code",
   "execution_count": 7,
   "metadata": {
    "collapsed": true
   },
   "outputs": [],
   "source": [
    "X_train_con = pd.DataFrame()\n",
    "X_test_con = pd.DataFrame()\n",
    "for col in X_train.columns:\n",
    "    if X_train[col].dtypes != object and col != 'dup_charge_amt':\n",
    "        X_train_con = pd.concat([X_train_con, X_train[col]], axis=1)\n",
    "        final_names.append(col)\n",
    "        X_test_con = pd.concat([X_test_con, X_test[col]], axis=1)"
   ]
  },
  {
   "cell_type": "code",
   "execution_count": 8,
   "metadata": {
    "collapsed": true
   },
   "outputs": [],
   "source": [
    "X_train_final = sp.sparse.hstack((X_train_final, X_train_con.values),format='csr')\n",
    "X_test_final = sp.sparse.hstack((X_test_final, X_test_con.values),format='csr')"
   ]
  },
  {
   "cell_type": "code",
   "execution_count": 12,
   "metadata": {},
   "outputs": [
    {
     "data": {
      "text/plain": [
       "7565"
      ]
     },
     "execution_count": 12,
     "metadata": {},
     "output_type": "execute_result"
    }
   ],
   "source": [
    "Y_train.sum()"
   ]
  },
  {
   "cell_type": "code",
   "execution_count": 13,
   "metadata": {},
   "outputs": [
    {
     "data": {
      "text/plain": [
       "0.8849386123141121"
      ]
     },
     "execution_count": 13,
     "metadata": {},
     "output_type": "execute_result"
    }
   ],
   "source": [
    "from xgboost import XGBClassifier\n",
    "#from sklearn.ensemble import GradientBoostingClassifier\n",
    "model = XGBClassifier(scale_pos_weight = 62.6, max_depth = 3, n_estimators = 1000)\n",
    "model.fit(X_train_final, Y_train)\n",
    "model.score(X_test_final, Y_test)"
   ]
  },
  {
   "cell_type": "code",
   "execution_count": 14,
   "metadata": {},
   "outputs": [
    {
     "data": {
      "image/png": "[encoded data removed]",
      "text/plain": [
       "<matplotlib.figure.Figure at 0x349d2278>"
      ]
     },
     "metadata": {},
     "output_type": "display_data"
    }
   ],
   "source": [
    "#plotting confusion matrix\n",
    "from sklearn.metrics import confusion_matrix\n",
    "import seaborn as sns\n",
    "import matplotlib.pyplot as plt\n",
    "C = confusion_matrix(Y_test, model.predict(X_test_final))\n",
    "sns.heatmap(C,annot=True, fmt=\".1f\", xticklabels=[\"no_call\",\"call\"], yticklabels=[\"no_call\",\"call\"])\n",
    "plt.xlabel('Predicted Class')\n",
    "plt.ylabel('Original Class')\n",
    "plt.show()"
   ]
  },
  {
   "cell_type": "code",
   "execution_count": 15,
   "metadata": {},
   "outputs": [
    {
     "data": {
      "text/plain": [
       "0.8945312175293638"
      ]
     },
     "execution_count": 15,
     "metadata": {},
     "output_type": "execute_result"
    }
   ],
   "source": [
    "from xgboost import XGBClassifier\n",
    "#from sklearn.ensemble import GradientBoostingClassifier\n",
    "model = XGBClassifier(scale_pos_weight = 62.6, max_depth = 3, n_estimators = 2000)\n",
    "model.fit(X_train_final, Y_train)\n",
    "model.score(X_test_final, Y_test)"
   ]
  },
  {
   "cell_type": "code",
   "execution_count": 16,
   "metadata": {},
   "outputs": [
    {
     "data": {
      "image/png": "[encoded data removed]",
      "text/plain": [
       "<matplotlib.figure.Figure at 0x34c83160>"
      ]
     },
     "metadata": {},
     "output_type": "display_data"
    }
   ],
   "source": [
    "#plotting confusion matrix\n",
    "from sklearn.metrics import confusion_matrix\n",
    "import seaborn as sns\n",
    "import matplotlib.pyplot as plt\n",
    "C = confusion_matrix(Y_test, model.predict(X_test_final))\n",
    "sns.heatmap(C,annot=True, fmt=\".1f\", xticklabels=[\"no_call\",\"call\"], yticklabels=[\"no_call\",\"call\"])\n",
    "plt.xlabel('Predicted Class')\n",
    "plt.ylabel('Original Class')\n",
    "plt.show()"
   ]
  },
  {
   "cell_type": "code",
   "execution_count": null,
   "metadata": {
    "collapsed": true
   },
   "outputs": [],
   "source": [
    "from sklearn.ensemble import RandomForestClassifier\n",
    "#from sklearn.ensemble import GradientBoostingClassifier\n",
    "model = RandomForestClassifier(class_weight= 'balanced', n_estimators = 1000)\n",
    "model.fit(X_train_final, Y_train)\n",
    "model.score(X_test_final, Y_test)"
   ]
  },
  {
   "cell_type": "code",
   "execution_count": 14,
   "metadata": {},
   "outputs": [
    {
     "data": {
      "image/png": "[encoded data removed]",
      "text/plain": [
       "<matplotlib.figure.Figure at 0x1b208eb8>"
      ]
     },
     "metadata": {},
     "output_type": "display_data"
    }
   ],
   "source": [
    "#plotting confusion matrix\n",
    "from sklearn.metrics import confusion_matrix\n",
    "import seaborn as sns\n",
    "import matplotlib.pyplot as plt\n",
    "C = confusion_matrix(Y_test, model.predict(X_test_final))\n",
    "sns.heatmap(C,annot=True, fmt=\".1f\", xticklabels=[\"no_call\",\"call\"], yticklabels=[\"no_call\",\"call\"])\n",
    "plt.xlabel('Predicted Class')\n",
    "plt.ylabel('Original Class')\n",
    "plt.show()"
   ]
  },
  {
   "cell_type": "code",
   "execution_count": 24,
   "metadata": {
    "collapsed": true,
    "scrolled": false
   },
   "outputs": [],
   "source": [
    "feature_importances = pd.DataFrame(model.feature_importances_,\n",
    "                                   index = final_names,\n",
    "                                    columns=['importance']).sort_values('importance',ascending=False)\n",
    "feature_importances.to_csv('imp_features.csv')"
   ]
  },
  {
   "cell_type": "code",
   "execution_count": 9,
   "metadata": {
    "collapsed": true
   },
   "outputs": [],
   "source": [
    "parameter = [{'n_estimators': [500,1000,2000]}]"
   ]
  },
  {
   "cell_type": "code",
   "execution_count": 11,
   "metadata": {},
   "outputs": [
    {
     "name": "stdout",
     "output_type": "stream",
     "text": [
      "XGBClassifier(base_score=0.5, booster='gbtree', colsample_bylevel=1,\n",
      "       colsample_bytree=1, gamma=0, learning_rate=0.1, max_delta_step=0,\n",
      "       max_depth=3, min_child_weight=1, missing=None, n_estimators=2000,\n",
      "       n_jobs=1, nthread=None, objective='binary:logistic', random_state=0,\n",
      "       reg_alpha=0, reg_lambda=1, scale_pos_weight=62.6, seed=None,\n",
      "       silent=True, subsample=1)\n",
      "0.19624984163182566\n"
     ]
    }
   ],
   "source": [
    "from xgboost import XGBClassifier\n",
    "from sklearn.model_selection import GridSearchCV\n",
    "model = GridSearchCV(XGBClassifier(scale_pos_weight = 62.6), parameter, scoring = 'f1', cv=3)\n",
    "model.fit(X_train_final, Y_train)\n",
    "print(model.best_estimator_)\n",
    "print(model.score(X_test_final, Y_test))"
   ]
  },
  {
   "cell_type": "code",
   "execution_count": 12,
   "metadata": {},
   "outputs": [
    {
     "data": {
      "image/png": "[encoded data removed]",
      "text/plain": [
       "<matplotlib.figure.Figure at 0x20136780>"
      ]
     },
     "metadata": {},
     "output_type": "display_data"
    }
   ],
   "source": [
    "#plotting confusion matrix\n",
    "from sklearn.metrics import confusion_matrix\n",
    "import seaborn as sns\n",
    "import matplotlib.pyplot as plt\n",
    "C = confusion_matrix(Y_test, model.predict(X_test_final))\n",
    "sns.heatmap(C,annot=True, fmt=\".1f\", xticklabels=[\"no_call\",\"call\"], yticklabels=[\"no_call\",\"call\"])\n",
    "plt.xlabel('Predicted Class')\n",
    "plt.ylabel('Original Class')\n",
    "plt.show()"
   ]
  },
  {
   "cell_type": "code",
   "execution_count": 40,
   "metadata": {
    "collapsed": true
   },
   "outputs": [],
   "source": [
    "predicted_probas = model.predict_proba(X_test_final)"
   ]
  },
  {
   "cell_type": "code",
   "execution_count": 41,
   "metadata": {},
   "outputs": [
    {
     "data": {
      "image/png": "[encoded data removed]",
      "text/plain": [
       "<matplotlib.figure.Figure at 0x3547e748>"
      ]
     },
     "metadata": {},
     "output_type": "display_data"
    }
   ],
   "source": [
    "import matplotlib.pyplot as plt\n",
    "import scikitplot as skplt\n",
    "skplt.metrics.plot_cumulative_gain(Y_test, predicted_probas)\n",
    "plt.show()"
   ]
  },
  {
   "cell_type": "code",
   "execution_count": 42,
   "metadata": {},
   "outputs": [
    {
     "data": {
      "image/png": "[encoded data removed]",
      "text/plain": [
       "<matplotlib.figure.Figure at 0x35386320>"
      ]
     },
     "metadata": {},
     "output_type": "display_data"
    }
   ],
   "source": [
    "#plotting confusion matrix\n",
    "from sklearn.metrics import confusion_matrix\n",
    "import seaborn as sns\n",
    "import matplotlib.pyplot as plt\n",
    "C = confusion_matrix(Y_test, model.predict(X_test_final))\n",
    "sns.heatmap(C,annot=True, fmt=\".1f\", xticklabels=[\"no_call\",\"call\"], yticklabels=[\"no_call\",\"call\"])\n",
    "plt.xlabel('Predicted Class')\n",
    "plt.ylabel('Original Class')\n",
    "plt.show()"
   ]
  },
  {
   "cell_type": "code",
   "execution_count": 43,
   "metadata": {},
   "outputs": [
    {
     "data": {
      "text/plain": [
       "0.9844390320944963"
      ]
     },
     "execution_count": 43,
     "metadata": {},
     "output_type": "execute_result"
    }
   ],
   "source": [
    "from sklearn.ensemble import GradientBoostingClassifier\n",
    "model = GradientBoostingClassifier()\n",
    "model.fit(X_train_final, Y_train)\n",
    "model.score(X_test_final, Y_test)"
   ]
  },
  {
   "cell_type": "code",
   "execution_count": 44,
   "metadata": {},
   "outputs": [
    {
     "data": {
      "image/png": "[encoded data removed]",
      "text/plain": [
       "<matplotlib.figure.Figure at 0x45f0deb8>"
      ]
     },
     "metadata": {},
     "output_type": "display_data"
    }
   ],
   "source": [
    "#plotting confusion matrix\n",
    "from sklearn.metrics import confusion_matrix\n",
    "import seaborn as sns\n",
    "import matplotlib.pyplot as plt\n",
    "C = confusion_matrix(Y_test, model.predict(X_test_final))\n",
    "sns.heatmap(C,annot=True, fmt=\".1f\", xticklabels=[\"no_call\",\"call\"], yticklabels=[\"no_call\",\"call\"])\n",
    "plt.xlabel('Predicted Class')\n",
    "plt.ylabel('Original Class')\n",
    "plt.show()"
   ]
  },
  {
   "cell_type": "code",
   "execution_count": 24,
   "metadata": {
    "collapsed": true
   },
   "outputs": [],
   "source": [
    "X_train_con[X_train_con < 0] = 0"
   ]
  },
  {
   "cell_type": "code",
   "execution_count": 26,
   "metadata": {},
   "outputs": [
    {
     "data": {
      "text/plain": [
       "Index(['billed_amt', 'liable_chrg_amt', 'allw_amt', 'covered_amt', 'paid_amt',\n",
       "       'dup_charge_amt', 'claim_processing_tat', 'pre_processing_tat',\n",
       "       'paid_from_adjd_tat'],\n",
       "      dtype='object')"
      ]
     },
     "execution_count": 26,
     "metadata": {},
     "output_type": "execute_result"
    }
   ],
   "source": [
    "X_train_con.columns"
   ]
  },
  {
   "cell_type": "code",
   "execution_count": 25,
   "metadata": {},
   "outputs": [
    {
     "name": "stdout",
     "output_type": "stream",
     "text": [
      "[3.615e+06 2.623e+06 5.888e+03 3.023e+05 3.061e+03       nan 4.083e+03\n",
      " 1.790e+04 5.722e+03]\n"
     ]
    }
   ],
   "source": [
    "## Univariate Selection\n",
    "# Feature Extraction with Univariate Statistical Tests (Chi-squared for classification)\n",
    "import pandas\n",
    "import numpy\n",
    "from sklearn.feature_selection import SelectKBest\n",
    "from sklearn.feature_selection import chi2\n",
    "\n",
    "# feature extraction\n",
    "test = SelectKBest(score_func=chi2, k=4)\n",
    "fit = test.fit(X_train_con, Y_train)\n",
    "# summarize scores\n",
    "numpy.set_printoptions(precision=3)\n",
    "print(fit.scores_)\n"
   ]
  },
  {
   "cell_type": "code",
   "execution_count": 21,
   "metadata": {},
   "outputs": [
    {
     "name": "stdout",
     "output_type": "stream",
     "text": [
      "Num Features: 3\n",
      "Selected Features: [False False  True False  True  True]\n",
      "Feature Ranking: [2 4 1 3 1 1]\n"
     ]
    }
   ],
   "source": [
    "# Feature Extraction with RFE\n",
    "from pandas import read_csv\n",
    "from sklearn.feature_selection import RFE\n",
    "from sklearn.linear_model import LogisticRegression\n",
    "\n",
    "# feature extraction\n",
    "model = LogisticRegression()\n",
    "rfe = RFE(model, 3)\n",
    "fit = rfe.fit(X, Y)\n",
    "print(\"Num Features: %d\") % fit.n_features_\n",
    "print(\"Selected Features: %s\") % fit.support_\n",
    "print(\"Feature Ranking: %s\") % fit.ranking_\n"
   ]
  },
  {
   "cell_type": "code",
   "execution_count": 22,
   "metadata": {},
   "outputs": [
    {
     "name": "stdout",
     "output_type": "stream",
     "text": [
      "[0.19831611 0.17589071 0.00905682 0.21893039 0.2031182  0.19468778]\n"
     ]
    },
    {
     "name": "stderr",
     "output_type": "stream",
     "text": [
      "/app_2/Python_Inst/jupyter/anaconda2/lib/python2.7/site-packages/sklearn/ensemble/weight_boosting.py:29: DeprecationWarning: numpy.core.umath_tests is an internal NumPy module and should not be imported. It will be removed in a future NumPy release.\n",
      "  from numpy.core.umath_tests import inner1d\n"
     ]
    }
   ],
   "source": [
    "# Feature Importance with Extra Trees Classifier\n",
    "from pandas import read_csv\n",
    "from sklearn.ensemble import ExtraTreesClassifier\n",
    "\n",
    "# feature extraction\n",
    "model = ExtraTreesClassifier()\n",
    "model.fit(X, Y)\n",
    "print(model.feature_importances_)\n"
   ]
  },
  {
   "cell_type": "code",
   "execution_count": null,
   "metadata": {
    "collapsed": true
   },
   "outputs": [],
   "source": []
  }
 ],
 "metadata": {
  "kernelspec": {
   "display_name": "Python 3",
   "language": "python",
   "name": "python3"
  },
  "language_info": {
   "codemirror_mode": {
    "name": "ipython",
    "version": 3
   },
   "file_extension": ".py",
   "mimetype": "text/x-python",
   "name": "python",
   "nbconvert_exporter": "python",
   "pygments_lexer": "ipython3",
   "version": "3.6.1"
  }
 },
 "nbformat": 4,
 "nbformat_minor": 2
}
