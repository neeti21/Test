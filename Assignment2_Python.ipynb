{
 "cells": [
  {
   "cell_type": "markdown",
   "metadata": {},
   "source": [
    "1.A school has following rules for grading system:\n",
    "    \n",
    "    a. Below 25 - F\n",
    "    b. 25 to 45 - E\n",
    "    c. 45 to 50 - D\n",
    "    d. 50 to 60 - C\n",
    "    e. 60 to 80 - B\n",
    "    f. Above 80 - A\n",
    "    Ask user to enter marks and print the corresponding grade."
   ]
  },
  {
   "cell_type": "code",
   "execution_count": 1,
   "metadata": {},
   "outputs": [
    {
     "name": "stdout",
     "output_type": "stream",
     "text": [
      "Enter marks: 41\n",
      "Grade: E\n"
     ]
    }
   ],
   "source": [
    "marks=int(input(\"Enter marks: \"))\n",
    "\n",
    "if(marks<25):\n",
    "    print(\"Grade: F\")\n",
    "elif(marks>=25 & marks<45):\n",
    "    print(\"Grade: E\")\n",
    "elif(marks>=45 & marks<50):\n",
    "    print(\"Grade: D\")\n",
    "elif(marks>=50 & marks<60):\n",
    "    print(\"Grade: C\")\n",
    "elif(marks>=60 & marks<80):\n",
    "    print(\"Grade: B\")\n",
    "elif(marks>=80):\n",
    "    print(\"Grade: A\")"
   ]
  },
  {
   "cell_type": "markdown",
   "metadata": {},
   "source": [
    "2. Take three nos. as input from user and print the largest amongst them."
   ]
  },
  {
   "cell_type": "code",
   "execution_count": 3,
   "metadata": {},
   "outputs": [
    {
     "name": "stdout",
     "output_type": "stream",
     "text": [
      "Enter Number 1: 20\n",
      "Enter Number 2: 40.5\n",
      "Enter Number 3: 29\n",
      "The largest number between 20.0 , 40.5 and 29.0 is 40.5\n"
     ]
    }
   ],
   "source": [
    "num1 = float(input(\"Enter Number 1: \"))\n",
    "num2 = float(input(\"Enter Number 2: \"))\n",
    "num3 = float(input(\"Enter Number 3: \"))\n",
    "if (num1 >= num2) and (num1 >= num3):   \n",
    "    largest = num1\n",
    "elif (num2 >= num1) and (num2 >= num3):\n",
    "    largest = num2\n",
    "else:\n",
    "    largest = num3\n",
    "\n",
    "print(\"The largest number between\",num1,\",\",num2,\"and\",num3,\"is\",largest)"
   ]
  },
  {
   "cell_type": "markdown",
   "metadata": {},
   "source": [
    "3. Find the Error"
   ]
  },
  {
   "cell_type": "code",
   "execution_count": 8,
   "metadata": {},
   "outputs": [
    {
     "name": "stdout",
     "output_type": "stream",
     "text": [
      "Enter temperature:93\n",
      "Enter humidity percentage:90\n",
      "Cancel schoool\n"
     ]
    }
   ],
   "source": [
    "#Set Integers\n",
    "Temperature = int (input(\"Enter temperature:\"))\n",
    "Humidity = int(input(\"Enter humidity percentage:\"))\n",
    "\n",
    "#statements\n",
    "\n",
    "if Temperature >= 100:\n",
    "    print(\"Cancel School, and recommend a good movie\")\n",
    "elif Temperature >= 92:\n",
    "    if Humidity > 75:\n",
    "        print(\"Cancel schoool\")\n",
    "elif Temperature > 88:\n",
    "    if Humidity >= 85:\n",
    "        print(\"Cancel school\")\n",
    "elif Temperature == 75:\n",
    "    if Humidity <= 65:\n",
    "        print(\"Encourage students to skip school and enjoy the great outdoors\")\n",
    "elif Temperature <= -25:\n",
    "        print (\"You had better panic, because the world is clearly ending\")\n",
    "elif Temperature < 0:\n",
    "    print(\"Cancel school\")\n",
    "else:\n",
    "    print(\"School is in session\")"
   ]
  },
  {
   "cell_type": "markdown",
   "metadata": {},
   "source": [
    "If else statements for the flowcharts"
   ]
  },
  {
   "cell_type": "code",
   "execution_count": 11,
   "metadata": {},
   "outputs": [
    {
     "name": "stdout",
     "output_type": "stream",
     "text": [
      "End of Nested If Block\n"
     ]
    }
   ],
   "source": [
    "## For image 1\n",
    "x = 0\n",
    "y = 10\n",
    "z = 30\n",
    "\n",
    "if (x==10):\n",
    "    if(y==20):\n",
    "        print(\"End of Nested If Block\")\n",
    "    else:\n",
    "        print(\"End of Nested If-Else Block\")\n",
    "else:\n",
    "    if(y==20):\n",
    "        print(\"Elif Block\")\n",
    "    else:\n",
    "        if(z==30):\n",
    "            print(\"End of Nested If Block\")\n",
    "        else:\n",
    "            print(\"End of Nested If-Else Block\")\n"
   ]
  },
  {
   "cell_type": "code",
   "execution_count": 14,
   "metadata": {},
   "outputs": [
    {
     "name": "stdout",
     "output_type": "stream",
     "text": [
      "avg:  11.666666666666666\n",
      "avg is higher than b,c\n"
     ]
    }
   ],
   "source": [
    "## For image 2\n",
    "a = 20\n",
    "b = 10\n",
    "c = 5\n",
    "\n",
    "avg = (a+b+c)/3\n",
    "print(\"avg: \", avg)\n",
    "\n",
    "if (avg>a) and (avg>b) and (avg>c):\n",
    "    print(\"avg is higher than a,b,c\")\n",
    "else:\n",
    "    if (avg>a) and (avg>b):\n",
    "        print(\"avg is higher than a,b,c\")\n",
    "    else:\n",
    "        if (avg>a and avg>c):\n",
    "            print(\"avg is higher than a,c\")\n",
    "        else:\n",
    "            if (avg>b and avg>c):\n",
    "                print(\"avg is higher than b,c\")\n",
    "            else:\n",
    "                if (avg>a):\n",
    "                    print(\"avg is just higher than a\")\n",
    "                else:\n",
    "                    if (avg>b):\n",
    "                        print(\"avg is just higher than b\")\n",
    "                    else:\n",
    "                        if (avg > c):\n",
    "                            print(\"avg is just higher than c\")\n",
    "                      "
   ]
  }
 ],
 "metadata": {
  "kernelspec": {
   "display_name": "Python 3",
   "language": "python",
   "name": "python3"
  },
  "language_info": {
   "codemirror_mode": {
    "name": "ipython",
    "version": 3
   },
   "file_extension": ".py",
   "mimetype": "text/x-python",
   "name": "python",
   "nbconvert_exporter": "python",
   "pygments_lexer": "ipython3",
   "version": "3.6.1"
  }
 },
 "nbformat": 4,
 "nbformat_minor": 2
}
